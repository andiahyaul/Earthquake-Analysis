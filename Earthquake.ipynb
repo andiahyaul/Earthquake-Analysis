{
  "cells": [
    {
      "cell_type": "markdown",
      "id": "afa51f01-f739-484c-88f9-21fd74ffb478",
      "metadata": {
        "id": "afa51f01-f739-484c-88f9-21fd74ffb478"
      },
      "source": [
        "# Imports"
      ]
    },
    {
      "cell_type": "code",
      "execution_count": null,
      "id": "30771e44-4fe7-494d-b2a5-eac37804c3d6",
      "metadata": {
        "id": "30771e44-4fe7-494d-b2a5-eac37804c3d6"
      },
      "outputs": [],
      "source": [
        "import pandas as pd\n",
        "from scipy.stats import shapiro, anderson, normaltest  # Using alternative tests\n",
        "import numpy as np\n",
        "from scipy.stats import zscore\n",
        "import re\n",
        "from datetime import datetime\n",
        "from sklearn.preprocessing import MinMaxScaler\n",
        "from tensorflow.keras.models import Sequential\n",
        "from tensorflow.keras.layers import LSTM, Dense\n",
        "from sklearn.metrics import r2_score\n",
        "import matplotlib.pyplot as plt"
      ]
    },
    {
      "cell_type": "markdown",
      "id": "814c8140-7614-4875-a4b0-8fd1addd1581",
      "metadata": {
        "id": "814c8140-7614-4875-a4b0-8fd1addd1581"
      },
      "source": [
        "# Functions"
      ]
    },
    {
      "cell_type": "code",
      "execution_count": null,
      "id": "3f9ac57c-8afc-489e-be4e-3bdc76acca70",
      "metadata": {
        "id": "3f9ac57c-8afc-489e-be4e-3bdc76acca70"
      },
      "outputs": [],
      "source": [
        "def standarize_cols(data):\n",
        "    data.columns = data.columns.str.lower().str.strip()\n",
        "    return data"
      ]
    },
    {
      "cell_type": "code",
      "execution_count": null,
      "id": "916d8a2d-9178-4ed9-9966-4563a1b80b70",
      "metadata": {
        "id": "916d8a2d-9178-4ed9-9966-4563a1b80b70"
      },
      "outputs": [],
      "source": [
        "def standarize_sorted_data(data):\n",
        "    # Define the new column names in the desired order\n",
        "    new_column_names = [\n",
        "        'no',\n",
        "        'date',\n",
        "        'time',\n",
        "        'mag',\n",
        "        'latitude',\n",
        "        'longitude',\n",
        "        'depth',\n",
        "        'keterangan',\n",
        "        'dirasakan',\n",
        "        'sumber'\n",
        "    ]\n",
        "\n",
        "    # Check if the number of columns matches the expected number\n",
        "    if len(data.columns) != len(new_column_names):\n",
        "        raise ValueError(f\"Expected {len(new_column_names)} columns, but got {len(data.columns)}\")\n",
        "\n",
        "    # Rename the columns in order\n",
        "    data.columns = new_column_names\n",
        "\n",
        "    dtype_mapping = {\n",
        "        'no': 'Int64',                   # Use 'Int64' for nullable integers\n",
        "        'date': 'datetime64[ns]',     # Datetime format\n",
        "        'time': 'string',         # String type\n",
        "        'mag': 'float64',                # Float type\n",
        "        'latitude': 'float64',\n",
        "        'longitude': 'float64',\n",
        "        'depth': 'Int64',\n",
        "        'keterangan': 'string',\n",
        "        'dirasakan': 'string',\n",
        "        'sumber': 'string'\n",
        "    }\n",
        "\n",
        "    # Step 3: Check for missing columns and add them if necessary\n",
        "    expected_columns = list(dtype_mapping.keys())\n",
        "    missing_columns = [col for col in expected_columns if col not in data.columns]\n",
        "    if missing_columns:\n",
        "        print(f\"Warning: The following expected columns are missing and will be added with NaN values: {missing_columns}\")\n",
        "        for col in missing_columns:\n",
        "            data[col] = pd.NA  # Adds missing columns with NaN values\n",
        "\n",
        "    # Step 4: Convert data types\n",
        "    for col, dtype in dtype_mapping.items():\n",
        "        if col in data.columns:\n",
        "            try:\n",
        "                if dtype.startswith('datetime'):\n",
        "                    # Convert to datetime, coerce errors to NaT\n",
        "                    data[col] = pd.to_datetime(data[col], errors='coerce')\n",
        "                else:\n",
        "                    # For other types, use astype with errors='ignore' to prevent exceptions\n",
        "                    data[col] = data[col].astype(dtype, errors='ignore')\n",
        "            except Exception as e:\n",
        "                print(f\"Error converting column '{col}' to {dtype}: {e}\")\n",
        "\n",
        "    return data"
      ]
    },
    {
      "cell_type": "code",
      "execution_count": null,
      "id": "ce382324-d5e7-4116-9c75-d9b1f1c77d5d",
      "metadata": {
        "id": "ce382324-d5e7-4116-9c75-d9b1f1c77d5d"
      },
      "outputs": [],
      "source": [
        "def rearrange_columns(data):\n",
        "    \"\"\"\n",
        "    Re-arrange columns in the DataFrame to the specified order:\n",
        "        - 'date'\n",
        "        - 'time'\n",
        "        - 'latitude'\n",
        "        - 'longitude'\n",
        "        - 'depth'\n",
        "        - 'mag'\n",
        "    \"\"\"\n",
        "    # Define the desired column order\n",
        "    column_order = ['date', 'time', 'latitude', 'longitude', 'depth', 'mag']\n",
        "\n",
        "    # Re-arrange the columns in the DataFrame\n",
        "    data = data[column_order]\n",
        "\n",
        "    return data"
      ]
    },
    {
      "cell_type": "code",
      "execution_count": null,
      "id": "a3d0d81e-0f63-40c9-8b9d-54485a9d586f",
      "metadata": {
        "id": "a3d0d81e-0f63-40c9-8b9d-54485a9d586f"
      },
      "outputs": [],
      "source": [
        "def impute_missing_values(df):\n",
        "    # Make a copy of the dataframe to avoid inplace issues\n",
        "    df = df.copy()\n",
        "\n",
        "    for column in df.select_dtypes(include=['float64', 'int64']).columns:\n",
        "        # Check if enough data is present for a normality test\n",
        "        if df[column].dropna().shape[0] >= 3:\n",
        "            # Use an alternative normality test suitable for larger datasets\n",
        "            if df[column].dropna().shape[0] > 5000:\n",
        "                stat, p_value = normaltest(df[column].dropna())\n",
        "            else:\n",
        "                stat, p_value = shapiro(df[column].dropna())\n",
        "\n",
        "            # Impute based on normality\n",
        "            if p_value > 0.05:  # Normal distribution\n",
        "                impute_value = df[column].mean()\n",
        "            else:  # Non-normal distribution\n",
        "                impute_value = df[column].median()\n",
        "        else:\n",
        "            # If too few values, impute with a constant or other method as fallback\n",
        "            impute_value = df[column].median()\n",
        "\n",
        "        # Apply imputation without inplace=True to avoid the warning\n",
        "        df[column] = df[column].fillna(impute_value)\n",
        "\n",
        "    return df"
      ]
    },
    {
      "cell_type": "code",
      "execution_count": null,
      "id": "347b43dd-0ce8-43ef-b4f3-1201c9ba155b",
      "metadata": {
        "id": "347b43dd-0ce8-43ef-b4f3-1201c9ba155b"
      },
      "outputs": [],
      "source": [
        "def standarize_data_types(data):\n",
        "    dtype_mapping = {\n",
        "        'date': 'datetime64[ns]',\n",
        "        'time': 'string',\n",
        "        'latitude': 'float64',\n",
        "        'longitude': 'float64',\n",
        "        'depth': 'float64',\n",
        "        'mag': 'float64'\n",
        "    }\n",
        "\n",
        "    # Convert data types\n",
        "    for col, dtype in dtype_mapping.items():\n",
        "        if dtype == 'datetime64[ns]':\n",
        "            # Convert to datetime, coerce errors to NaT\n",
        "            data[col] = pd.to_datetime(data[col], errors='coerce')\n",
        "        elif dtype == 'float64':\n",
        "            # Convert to float, coerce errors to NaN\n",
        "            data[col] = pd.to_numeric(data[col], errors='coerce')\n",
        "            # print(f\"[DEBUG] Column '{col}' converted to {dtype}\")\n",
        "        else:\n",
        "            # For other types, use astype with errors='ignore'\n",
        "            data[col] = data[col].astype(dtype, errors='ignore')\n",
        "            # print(f\"[DEBUG] Column '{col}' converted to {dtype}\")\n",
        "\n",
        "    return data"
      ]
    },
    {
      "cell_type": "code",
      "execution_count": null,
      "id": "a03bdaee-22f3-4d85-b1ba-b18377bc052a",
      "metadata": {
        "id": "a03bdaee-22f3-4d85-b1ba-b18377bc052a"
      },
      "outputs": [],
      "source": [
        "lower_percentile = 0.01\n",
        "upper_percentile = 0.99\n",
        "\n",
        "# Method 1: Apply IQR-based capping\n",
        "def iqr_outlier_capping(df, columns):\n",
        "    for col in columns:\n",
        "        Q1 = df[col].quantile(0.25)\n",
        "        Q3 = df[col].quantile(0.75)\n",
        "        IQR = Q3 - Q1\n",
        "        lower_bound = Q1 - 1.5 * IQR\n",
        "        upper_bound = Q3 + 1.5 * IQR\n",
        "        # Cap outliers\n",
        "        df[col] = np.where(df[col] < lower_bound, lower_bound,\n",
        "                           np.where(df[col] > upper_bound, upper_bound, df[col]))\n",
        "    return df\n",
        "\n",
        "# Method 2: Z-score capping for normal distribution\n",
        "def zscore_outlier_capping(df, columns, threshold=3):\n",
        "    for col in columns:\n",
        "        df[col] = np.where(np.abs(zscore(df[col])) > threshold,\n",
        "                           np.sign(zscore(df[col])) * threshold * df[col].std() + df[col].mean(),\n",
        "                           df[col])\n",
        "    return df\n",
        "\n",
        "# Method 3: Percentile-based capping (best for skewed data)\n",
        "def percentile_outlier_capping(df, columns, lower_p, upper_p):\n",
        "    for col in columns:\n",
        "        lower_bound = df[col].quantile(lower_p)\n",
        "        upper_bound = df[col].quantile(upper_p)\n",
        "        df[col] = np.clip(df[col], lower_bound, upper_bound)\n",
        "    return df\n",
        "\n",
        "# Apply a dynamic approach based on data distribution\n",
        "def handle_outliers_dynamically(df, columns):\n",
        "    for col in columns:\n",
        "        # Check skewness and kurtosis to choose the method\n",
        "        skewness = df[col].skew()\n",
        "        kurtosis = df[col].kurt()\n",
        "\n",
        "        if abs(skewness) < 1 and abs(kurtosis) < 3:  # Normal-like distribution\n",
        "            print(f\"Applying Z-score capping for {col} because:\\n  -it has low skewness ({skewness:.2f})\\n  -low kurtosis ({kurtosis:.2f})\\n  indicating a roughly normal distribution.\\n\")\n",
        "            df = zscore_outlier_capping(df, [col])\n",
        "\n",
        "        elif abs(skewness) < 1:  # Mildly skewed but not normal\n",
        "            print(f\"Applying IQR capping for {col} because:\\n  -it has low skewness ({skewness:.2f})\\n  - high kurtosis ({kurtosis:.2f})\\n  suggesting a distribution with long tails.\\n\")\n",
        "            df = iqr_outlier_capping(df, [col])\n",
        "\n",
        "        else:  # Highly skewed data\n",
        "            print(f\"Applying percentile capping for {col} because:\\n  -it has high skewness ({skewness:.2f})\\n  indicating a skewed distribution. Percentile capping is less sensitive to skewness.\\n\")\n",
        "            df = percentile_outlier_capping(df, [col], lower_percentile, upper_percentile)\n",
        "\n",
        "    return df\n",
        ""
      ]
    },
    {
      "cell_type": "code",
      "execution_count": null,
      "id": "427f4940-d81f-4fa7-b5a3-d9130f32db22",
      "metadata": {
        "id": "427f4940-d81f-4fa7-b5a3-d9130f32db22"
      },
      "outputs": [],
      "source": [
        "def is_valid_time(time_str):\n",
        "    for pattern in valid_time_patterns:\n",
        "        if pattern.match(time_str):\n",
        "            return True\n",
        "    return False"
      ]
    },
    {
      "cell_type": "markdown",
      "id": "68d822f3-d2ea-4350-baf9-3df7fe2b0096",
      "metadata": {
        "id": "68d822f3-d2ea-4350-baf9-3df7fe2b0096"
      },
      "source": [
        "# Code"
      ]
    },
    {
      "cell_type": "markdown",
      "id": "4019db72-1291-4c97-90b0-8a825a05c968",
      "metadata": {
        "id": "4019db72-1291-4c97-90b0-8a825a05c968"
      },
      "source": [
        "## Load Datasets"
      ]
    },
    {
      "cell_type": "code",
      "execution_count": null,
      "id": "aaa46761-cb27-401e-b2cb-6e714021db35",
      "metadata": {
        "id": "aaa46761-cb27-401e-b2cb-6e714021db35"
      },
      "outputs": [],
      "source": [
        "data_raw_1907_1999 = pd.read_excel(\"1907-2018.xlsx\", sheet_name='1907-1999')\n",
        "data_raw_2000_2008 = pd.read_excel(\"1907-2018.xlsx\", sheet_name='2000-2008')\n",
        "data_raw_2008_2017 = pd.read_excel(\"1907-2018.xlsx\", sheet_name='2008-2017')\n",
        "\n",
        "data_sorted_2019 =  pd.read_excel(\"Data Gempa 2019 - 2023.xlsx\", sheet_name='2019')\n",
        "data_sorted_2020 =  pd.read_excel(\"Data Gempa 2019 - 2023.xlsx\", sheet_name='2020')\n",
        "data_sorted_2021 =  pd.read_excel(\"Data Gempa 2019 - 2023.xlsx\", sheet_name='2021')\n",
        "data_sorted_2022 =  pd.read_excel(\"Data Gempa 2019 - 2023.xlsx\", sheet_name='2022')\n",
        "data_sorted_2023 =  pd.read_excel(\"Data Gempa 2019 - 2023.xlsx\", sheet_name='2023')"
      ]
    },
    {
      "cell_type": "markdown",
      "id": "4e6b84f4-87d8-4bd9-a7c0-b2a9165d8d38",
      "metadata": {
        "id": "4e6b84f4-87d8-4bd9-a7c0-b2a9165d8d38"
      },
      "source": [
        "## Initial Preprocessing"
      ]
    },
    {
      "cell_type": "code",
      "execution_count": null,
      "id": "3a9cf031-f63a-4823-b830-0063dbb6bf9f",
      "metadata": {
        "id": "3a9cf031-f63a-4823-b830-0063dbb6bf9f"
      },
      "outputs": [],
      "source": [
        "dataframes = [\n",
        "    data_raw_1907_1999,\n",
        "    data_raw_2000_2008,\n",
        "    data_raw_2008_2017,\n",
        "    data_sorted_2019,\n",
        "    data_sorted_2020,\n",
        "    data_sorted_2021,\n",
        "    data_sorted_2022,\n",
        "    data_sorted_2023\n",
        "]\n",
        "\n",
        "for df in dataframes:\n",
        "    standarize_cols(df)"
      ]
    },
    {
      "cell_type": "code",
      "execution_count": null,
      "id": "406280ff-4a22-4fef-bd08-b8e97dbbf62c",
      "metadata": {
        "id": "406280ff-4a22-4fef-bd08-b8e97dbbf62c"
      },
      "outputs": [],
      "source": [
        "data_raw_2008_2017 = data_raw_2008_2017.drop(columns=['cphase', 'region'])\n",
        "data_raw_2008_2017.rename(columns={'typemag': 'magtype'}, inplace=True)"
      ]
    },
    {
      "cell_type": "code",
      "execution_count": null,
      "id": "93421afa-7589-44b7-9238-306573173ec5",
      "metadata": {
        "id": "93421afa-7589-44b7-9238-306573173ec5"
      },
      "outputs": [],
      "source": [
        "data_raw = pd.concat([data_raw_1907_1999, data_raw_2000_2008, data_raw_2008_2017], ignore_index=True)\n",
        "data_raw = data_raw.drop(columns=['magtype'])"
      ]
    },
    {
      "cell_type": "code",
      "execution_count": null,
      "id": "9a1328ae-9e8f-4f43-86ec-25909e5a15fa",
      "metadata": {
        "id": "9a1328ae-9e8f-4f43-86ec-25909e5a15fa"
      },
      "outputs": [],
      "source": [
        "data_sorted_2019 = data_sorted_2019.drop(columns=['unnamed: 5', 'unnamed: 7'])\n",
        "data_sorted_2021 = data_sorted_2021.drop(columns=['jam', 'menit', 'detik', 's/n', 'e'])\n",
        "data_sorted_2022 = data_sorted_2022.drop(columns=['jam', 'menit', 'detik', 's/n', 'e'])\n",
        "data_sorted_2023 = data_sorted_2023.drop(columns=['jam', 'menit', 'detik', 'unnamed: 8', 'unnamed: 10'])"
      ]
    },
    {
      "cell_type": "code",
      "execution_count": null,
      "id": "c8bf15cd-71dc-44ec-8ccb-d898e01c9992",
      "metadata": {
        "id": "c8bf15cd-71dc-44ec-8ccb-d898e01c9992"
      },
      "outputs": [],
      "source": [
        "dataframes = [\n",
        "    data_sorted_2019,\n",
        "    data_sorted_2020,\n",
        "    data_sorted_2021,\n",
        "    data_sorted_2022,\n",
        "    data_sorted_2023\n",
        "]\n",
        "\n",
        "for df in dataframes:\n",
        "    standarize_sorted_data(df)"
      ]
    },
    {
      "cell_type": "code",
      "execution_count": null,
      "id": "3c7c3157-da53-4069-8a22-f7153c7e0b9d",
      "metadata": {
        "id": "3c7c3157-da53-4069-8a22-f7153c7e0b9d"
      },
      "outputs": [],
      "source": [
        "data_sorted = pd.concat([data_sorted_2019, data_sorted_2020, data_sorted_2021, data_sorted_2022, data_sorted_2023], ignore_index=True)\n",
        "data_sorted = data_sorted.drop(columns=['no', 'keterangan', 'dirasakan', 'sumber'])"
      ]
    },
    {
      "cell_type": "code",
      "execution_count": null,
      "id": "b0a3d1f0-bc0a-4431-ac2a-6ff5140e574a",
      "metadata": {
        "id": "b0a3d1f0-bc0a-4431-ac2a-6ff5140e574a"
      },
      "outputs": [],
      "source": [
        "data_raw = rearrange_columns(data_raw)\n",
        "data_sorted = rearrange_columns(data_sorted)"
      ]
    },
    {
      "cell_type": "markdown",
      "id": "63e2c6c0-f6b9-48bf-aa51-d66e21ff260c",
      "metadata": {
        "id": "63e2c6c0-f6b9-48bf-aa51-d66e21ff260c"
      },
      "source": [
        "## Concat data\n",
        "\n",
        "merging data A (range 1907-2017) with data B (range 2019-2023)"
      ]
    },
    {
      "cell_type": "code",
      "execution_count": null,
      "id": "96b5e74a-99a3-4088-932d-6842fb01b619",
      "metadata": {
        "id": "96b5e74a-99a3-4088-932d-6842fb01b619"
      },
      "outputs": [],
      "source": [
        "working_data = pd.concat([data_raw, data_sorted], ignore_index=True)\n",
        "working_data = standarize_data_types(working_data)"
      ]
    },
    {
      "cell_type": "code",
      "execution_count": null,
      "id": "1e3a9428-fb9d-4926-b90b-d56f5ec6ac10",
      "metadata": {
        "id": "1e3a9428-fb9d-4926-b90b-d56f5ec6ac10"
      },
      "outputs": [],
      "source": [
        "working_data.to_csv(\"Data Gempa 1907-2023.csv\", index=False)"
      ]
    },
    {
      "cell_type": "code",
      "execution_count": null,
      "id": "ae0a136d-195a-44a2-90bf-f4907d75e400",
      "metadata": {
        "id": "ae0a136d-195a-44a2-90bf-f4907d75e400",
        "outputId": "940c5de8-3b52-4ae7-a3e2-d9593aeb26f7"
      },
      "outputs": [
        {
          "data": {
            "text/html": [
              "<div>\n",
              "<style scoped>\n",
              "    .dataframe tbody tr th:only-of-type {\n",
              "        vertical-align: middle;\n",
              "    }\n",
              "\n",
              "    .dataframe tbody tr th {\n",
              "        vertical-align: top;\n",
              "    }\n",
              "\n",
              "    .dataframe thead th {\n",
              "        text-align: right;\n",
              "    }\n",
              "</style>\n",
              "<table border=\"1\" class=\"dataframe\">\n",
              "  <thead>\n",
              "    <tr style=\"text-align: right;\">\n",
              "      <th></th>\n",
              "      <th>date</th>\n",
              "      <th>time</th>\n",
              "      <th>latitude</th>\n",
              "      <th>longitude</th>\n",
              "      <th>depth</th>\n",
              "      <th>mag</th>\n",
              "    </tr>\n",
              "  </thead>\n",
              "  <tbody>\n",
              "    <tr>\n",
              "      <th>0</th>\n",
              "      <td>1907-01-04</td>\n",
              "      <td>05:19:11</td>\n",
              "      <td>1.873</td>\n",
              "      <td>94.209</td>\n",
              "      <td>15.0</td>\n",
              "      <td>7.8</td>\n",
              "    </tr>\n",
              "    <tr>\n",
              "      <th>1</th>\n",
              "      <td>1910-12-16</td>\n",
              "      <td>14:44:55</td>\n",
              "      <td>4.685</td>\n",
              "      <td>126.051</td>\n",
              "      <td>15.0</td>\n",
              "      <td>7.6</td>\n",
              "    </tr>\n",
              "    <tr>\n",
              "      <th>2</th>\n",
              "      <td>1911-08-16</td>\n",
              "      <td>22:41:17</td>\n",
              "      <td>7.237</td>\n",
              "      <td>136.944</td>\n",
              "      <td>15.0</td>\n",
              "      <td>7.8</td>\n",
              "    </tr>\n",
              "    <tr>\n",
              "      <th>3</th>\n",
              "      <td>1912-09-29</td>\n",
              "      <td>20:51:23</td>\n",
              "      <td>7.299</td>\n",
              "      <td>136.888</td>\n",
              "      <td>15.0</td>\n",
              "      <td>7.5</td>\n",
              "    </tr>\n",
              "    <tr>\n",
              "      <th>4</th>\n",
              "      <td>1913-03-14</td>\n",
              "      <td>08:45:04</td>\n",
              "      <td>5.354</td>\n",
              "      <td>126.121</td>\n",
              "      <td>15.0</td>\n",
              "      <td>7.8</td>\n",
              "    </tr>\n",
              "    <tr>\n",
              "      <th>...</th>\n",
              "      <td>...</td>\n",
              "      <td>...</td>\n",
              "      <td>...</td>\n",
              "      <td>...</td>\n",
              "      <td>...</td>\n",
              "      <td>...</td>\n",
              "    </tr>\n",
              "    <tr>\n",
              "      <th>105741</th>\n",
              "      <td>2023-05-30</td>\n",
              "      <td>18:21:09</td>\n",
              "      <td>3.530</td>\n",
              "      <td>118.820</td>\n",
              "      <td>7.0</td>\n",
              "      <td>2.1</td>\n",
              "    </tr>\n",
              "    <tr>\n",
              "      <th>105742</th>\n",
              "      <td>2023-05-30</td>\n",
              "      <td>19:42:23</td>\n",
              "      <td>2.420</td>\n",
              "      <td>121.170</td>\n",
              "      <td>3.0</td>\n",
              "      <td>1.8</td>\n",
              "    </tr>\n",
              "    <tr>\n",
              "      <th>105743</th>\n",
              "      <td>2023-05-30</td>\n",
              "      <td>20:48:12</td>\n",
              "      <td>2.440</td>\n",
              "      <td>120.970</td>\n",
              "      <td>5.0</td>\n",
              "      <td>2.1</td>\n",
              "    </tr>\n",
              "    <tr>\n",
              "      <th>105744</th>\n",
              "      <td>2023-05-31</td>\n",
              "      <td>02:46:08</td>\n",
              "      <td>1.620</td>\n",
              "      <td>120.220</td>\n",
              "      <td>4.0</td>\n",
              "      <td>2.5</td>\n",
              "    </tr>\n",
              "    <tr>\n",
              "      <th>105745</th>\n",
              "      <td>2023-05-31</td>\n",
              "      <td>15:43:34</td>\n",
              "      <td>2.330</td>\n",
              "      <td>120.650</td>\n",
              "      <td>10.0</td>\n",
              "      <td>1.9</td>\n",
              "    </tr>\n",
              "  </tbody>\n",
              "</table>\n",
              "<p>105746 rows × 6 columns</p>\n",
              "</div>"
            ],
            "text/plain": [
              "             date      time  latitude  longitude  depth  mag\n",
              "0      1907-01-04  05:19:11     1.873     94.209   15.0  7.8\n",
              "1      1910-12-16  14:44:55     4.685    126.051   15.0  7.6\n",
              "2      1911-08-16  22:41:17     7.237    136.944   15.0  7.8\n",
              "3      1912-09-29  20:51:23     7.299    136.888   15.0  7.5\n",
              "4      1913-03-14  08:45:04     5.354    126.121   15.0  7.8\n",
              "...           ...       ...       ...        ...    ...  ...\n",
              "105741 2023-05-30  18:21:09     3.530    118.820    7.0  2.1\n",
              "105742 2023-05-30  19:42:23     2.420    121.170    3.0  1.8\n",
              "105743 2023-05-30  20:48:12     2.440    120.970    5.0  2.1\n",
              "105744 2023-05-31  02:46:08     1.620    120.220    4.0  2.5\n",
              "105745 2023-05-31  15:43:34     2.330    120.650   10.0  1.9\n",
              "\n",
              "[105746 rows x 6 columns]"
            ]
          },
          "execution_count": 112,
          "metadata": {},
          "output_type": "execute_result"
        }
      ],
      "source": [
        "working_data"
      ]
    },
    {
      "cell_type": "markdown",
      "id": "a4d85245-adec-4f08-99cd-1a6dbdca88d0",
      "metadata": {
        "id": "a4d85245-adec-4f08-99cd-1a6dbdca88d0"
      },
      "source": [
        "## Checking & Handling Missing Values"
      ]
    },
    {
      "cell_type": "code",
      "execution_count": null,
      "id": "14d8ee74-96d8-43db-9d75-0b12ca833c42",
      "metadata": {
        "id": "14d8ee74-96d8-43db-9d75-0b12ca833c42",
        "outputId": "f6169637-cfae-4cee-de9f-946f418a9740"
      },
      "outputs": [
        {
          "name": "stdout",
          "output_type": "stream",
          "text": [
            "Missing Values:\n",
            "   - column: 'date' has 22 missing values\n",
            "   - column: 'time' has 5 missing values\n",
            "   - column: 'latitude' has 14 missing values\n",
            "   - column: 'longitude' has 20 missing values\n",
            "   - column: 'depth' has 14 missing values\n",
            "   - column: 'mag' has 9 missing values\n"
          ]
        }
      ],
      "source": [
        "missing_columns = working_data.isnull().sum()\n",
        "print(\"Missing Values:\")\n",
        "for column, missing_count in missing_columns[missing_columns > 0].items():\n",
        "    if missing_count > 0:\n",
        "        print(f\"   - column: '{column}' has {missing_count} missing values\")\n",
        "    else:\n",
        "        print(f\"   - column: '{column}' has no missing values\")"
      ]
    },
    {
      "cell_type": "code",
      "execution_count": null,
      "id": "fd85f23f-49c9-4ee2-96ee-bfeeb385a37d",
      "metadata": {
        "id": "fd85f23f-49c9-4ee2-96ee-bfeeb385a37d"
      },
      "outputs": [],
      "source": [
        "working_data = working_data.dropna(subset=['time', 'date'], how='any')"
      ]
    },
    {
      "cell_type": "code",
      "execution_count": null,
      "id": "8233c02d-aaef-44b3-acdf-fb9de6a4051a",
      "metadata": {
        "id": "8233c02d-aaef-44b3-acdf-fb9de6a4051a",
        "outputId": "967c970a-551a-4e05-cb11-2ed5690c99a0"
      },
      "outputs": [
        {
          "name": "stdout",
          "output_type": "stream",
          "text": [
            "MIssing Values Handled!\n"
          ]
        }
      ],
      "source": [
        "working_data = impute_missing_values(working_data)\n",
        "print(\"MIssing Values Handled!\")"
      ]
    },
    {
      "cell_type": "code",
      "execution_count": null,
      "id": "6bd4f12d-5c12-4949-835f-c842cba3cea6",
      "metadata": {
        "id": "6bd4f12d-5c12-4949-835f-c842cba3cea6"
      },
      "outputs": [],
      "source": [
        "working_data.to_csv(\"Data Gempa 1907-2023 - CLEANED.csv\", index=False)"
      ]
    },
    {
      "cell_type": "code",
      "execution_count": null,
      "id": "62afc4db-96ec-42d7-8b42-73d9bd3d7c53",
      "metadata": {
        "id": "62afc4db-96ec-42d7-8b42-73d9bd3d7c53",
        "outputId": "b93be13d-dfd9-493f-e6fe-a0866c820f1a"
      },
      "outputs": [
        {
          "data": {
            "text/plain": [
              "(Timestamp('1900-01-08 00:00:00'), Timestamp('2023-05-31 00:00:00'))"
            ]
          },
          "execution_count": 117,
          "metadata": {},
          "output_type": "execute_result"
        }
      ],
      "source": [
        "working_data['date'].min(),working_data['date'].max()"
      ]
    },
    {
      "cell_type": "code",
      "execution_count": null,
      "id": "e139d64e-15d8-4978-960f-13344df87cb5",
      "metadata": {
        "id": "e139d64e-15d8-4978-960f-13344df87cb5",
        "outputId": "869bc53c-223e-40cf-8708-51e3f2615b14"
      },
      "outputs": [
        {
          "data": {
            "text/plain": [
              "(105724, 6)"
            ]
          },
          "execution_count": 118,
          "metadata": {},
          "output_type": "execute_result"
        }
      ],
      "source": [
        "working_data.shape"
      ]
    },
    {
      "cell_type": "markdown",
      "id": "2748ecde-985d-4786-83fd-913c556c03fd",
      "metadata": {
        "id": "2748ecde-985d-4786-83fd-913c556c03fd"
      },
      "source": [
        "## Outlier Handling"
      ]
    },
    {
      "cell_type": "code",
      "execution_count": null,
      "id": "7f1bf24f-363b-48d7-af75-f560e4e5d3e1",
      "metadata": {
        "id": "7f1bf24f-363b-48d7-af75-f560e4e5d3e1",
        "outputId": "8075ec80-3e8a-4119-9353-0cf0d450cb26"
      },
      "outputs": [
        {
          "name": "stdout",
          "output_type": "stream",
          "text": [
            "Applying Z-score capping for latitude because:\n",
            "  -it has low skewness (0.04)\n",
            "  -low kurtosis (-0.64)\n",
            "  indicating a roughly normal distribution.\n",
            "\n",
            "Applying percentile capping for longitude because:\n",
            "  -it has high skewness (324.53)\n",
            "  indicating a skewed distribution. Percentile capping is less sensitive to skewness.\n",
            "\n",
            "Applying percentile capping for depth because:\n",
            "  -it has high skewness (3.43)\n",
            "  indicating a skewed distribution. Percentile capping is less sensitive to skewness.\n",
            "\n",
            "Applying IQR capping for mag because:\n",
            "  -it has low skewness (0.60)\n",
            "  - high kurtosis (36.71)\n",
            "  suggesting a distribution with long tails.\n",
            "\n"
          ]
        }
      ],
      "source": [
        "exclude_columns = ['date', 'time']\n",
        "columns_to_check = [col for col in working_data.columns if col not in exclude_columns]\n",
        "\n",
        "working_data = handle_outliers_dynamically(working_data, columns_to_check)"
      ]
    },
    {
      "cell_type": "markdown",
      "id": "bd059322-3d3b-4341-95bf-e0eb5a7040a3",
      "metadata": {
        "id": "bd059322-3d3b-4341-95bf-e0eb5a7040a3"
      },
      "source": [
        "## Data Splitting"
      ]
    },
    {
      "cell_type": "code",
      "execution_count": null,
      "id": "88febf1a-cc95-4578-b53b-857f5cb643e0",
      "metadata": {
        "id": "88febf1a-cc95-4578-b53b-857f5cb643e0",
        "outputId": "ca31b7e6-43cc-4193-b6c3-21768955a29a"
      },
      "outputs": [
        {
          "name": "stdout",
          "output_type": "stream",
          "text": [
            "Training data range: 1900-01-08 12:16:22 to 2014-04-09 19:43:31.500000\n",
            "Validation data range: 2014-04-09 20:07:54.100000 to 2017-03-31 13:14:08.300000\n",
            "Testing data range: 2017-03-31 13:59:18.300000 to 2023-05-31 15:43:34\n"
          ]
        }
      ],
      "source": [
        "working_data['time'] = working_data['time'].astype(str)\n",
        "\n",
        "valid_time_patterns = [\n",
        "    re.compile(r'^\\d{1,2}:\\d{2}:\\d{2}\\.\\d+$'),  # Matches HH:MM:SS.microseconds\n",
        "    re.compile(r'^\\d{1,2}:\\d{2}:\\d{2}$'),       # Matches HH:MM:SS\n",
        "]\n",
        "\n",
        "working_data_cleaned = working_data[working_data['time'].apply(is_valid_time)].reset_index(drop=True)\n",
        "working_data = working_data_cleaned\n",
        "\n",
        "working_data['datetime_str'] = working_data['date'].astype(str) + ' ' + working_data['time']\n",
        "working_data['datetime'] = pd.to_datetime(\n",
        "    working_data['datetime_str'], format='%Y-%m-%d %H:%M:%S.%f', errors='coerce'\n",
        ")\n",
        "\n",
        "mask = working_data['datetime'].isnull()\n",
        "if mask.any():\n",
        "    working_data.loc[mask, 'datetime'] = pd.to_datetime(\n",
        "        working_data.loc[mask, 'datetime_str'], format='%Y-%m-%d %H:%M:%S', errors='coerce'\n",
        "    )\n",
        "\n",
        "if working_data['datetime'].isnull().any():\n",
        "    working_data = working_data[working_data['datetime'].notnull()].reset_index(drop=True)\n",
        "\n",
        "working_data = working_data.drop(columns=['date', 'time', 'datetime_str'])\n",
        "working_data = working_data.sort_values('datetime').reset_index(drop=True)\n",
        "\n",
        "train_ratio = 0.7\n",
        "val_ratio = 0.15\n",
        "test_ratio = 0.15\n",
        "\n",
        "total_records = len(working_data)\n",
        "train_end_idx = int(total_records * train_ratio)\n",
        "val_end_idx = int(total_records * (train_ratio + val_ratio))\n",
        "\n",
        "train_data = working_data.iloc[:train_end_idx].reset_index(drop=True)\n",
        "val_data = working_data.iloc[train_end_idx:val_end_idx].reset_index(drop=True)\n",
        "test_data = working_data.iloc[val_end_idx:].reset_index(drop=True)\n",
        "\n",
        "print(f\"Training data range: {train_data['datetime'].min()} to {train_data['datetime'].max()}\")\n",
        "print(f\"Validation data range: {val_data['datetime'].min()} to {val_data['datetime'].max()}\")\n",
        "print(f\"Testing data range: {test_data['datetime'].min()} to {test_data['datetime'].max()}\")\n",
        "\n",
        "train_data = train_data.drop(columns=['datetime'])\n",
        "val_data = val_data.drop(columns=['datetime'])\n",
        "test_data = test_data.drop(columns=['datetime'])"
      ]
    },
    {
      "cell_type": "markdown",
      "id": "6c8d01db-153f-45b1-b9ea-64cee9146ea6",
      "metadata": {
        "id": "6c8d01db-153f-45b1-b9ea-64cee9146ea6"
      },
      "source": [
        "## Data Encoding"
      ]
    },
    {
      "cell_type": "code",
      "execution_count": null,
      "id": "14f2f94f-2e0c-4952-894d-134ba1415a79",
      "metadata": {
        "id": "14f2f94f-2e0c-4952-894d-134ba1415a79"
      },
      "outputs": [],
      "source": [
        "# Select features and target\n",
        "features = ['latitude', 'longitude', 'depth', 'mag']\n",
        "target_column = 'mag'\n",
        "\n",
        "scaler = MinMaxScaler()\n",
        "scaler.fit(train_data[features])\n",
        "\n",
        "train_features = scaler.transform(train_data[features])\n",
        "val_features = scaler.transform(val_data[features])\n",
        "test_features = scaler.transform(test_data[features])\n",
        "\n",
        "train_data_scaled = pd.DataFrame(train_features, columns=features)\n",
        "val_data_scaled = pd.DataFrame(val_features, columns=features)\n",
        "test_data_scaled = pd.DataFrame(test_features, columns=features)\n",
        "\n",
        "train_data_scaled[target_column] = train_data[target_column].reset_index(drop=True)\n",
        "val_data_scaled[target_column] = val_data[target_column].reset_index(drop=True)\n",
        "test_data_scaled[target_column] = test_data[target_column].reset_index(drop=True)"
      ]
    },
    {
      "cell_type": "code",
      "execution_count": null,
      "id": "8d616d90-ac4e-487f-9ee3-1762fda24678",
      "metadata": {
        "id": "8d616d90-ac4e-487f-9ee3-1762fda24678",
        "outputId": "973983d5-c6f0-456f-e812-1159156258ff"
      },
      "outputs": [
        {
          "name": "stdout",
          "output_type": "stream",
          "text": [
            "X_train shape: (73951, 10, 4), y_train shape: (73951,)\n",
            "X_val shape: (15839, 10, 4), y_val shape: (15839,)\n",
            "X_test shape: (15839, 10, 4), y_test shape: (15839,)\n"
          ]
        }
      ],
      "source": [
        "def create_sequences(data, seq_length, target_column):\n",
        "    sequences = []\n",
        "    targets = []\n",
        "    for i in range(len(data) - seq_length):\n",
        "        seq = data.iloc[i:i+seq_length][features].values\n",
        "        target = data.iloc[i+seq_length][target_column]\n",
        "        sequences.append(seq)\n",
        "        targets.append(target)\n",
        "    return np.array(sequences), np.array(targets)\n",
        "\n",
        "# Define sequence length\n",
        "seq_length = 10  # Number of time steps to look back\n",
        "\n",
        "# Prepare sequences\n",
        "X_train, y_train = create_sequences(train_data_scaled, seq_length, target_column)\n",
        "X_val, y_val = create_sequences(val_data_scaled, seq_length, target_column)\n",
        "X_test, y_test = create_sequences(test_data_scaled, seq_length, target_column)\n",
        "\n",
        "# Verify shapes\n",
        "print(f\"X_train shape: {X_train.shape}, y_train shape: {y_train.shape}\")\n",
        "print(f\"X_val shape: {X_val.shape}, y_val shape: {y_val.shape}\")\n",
        "print(f\"X_test shape: {X_test.shape}, y_test shape: {y_test.shape}\")"
      ]
    },
    {
      "cell_type": "markdown",
      "id": "3a2fc797-950e-4896-af94-8f30a8dfc5f1",
      "metadata": {
        "id": "3a2fc797-950e-4896-af94-8f30a8dfc5f1"
      },
      "source": [
        "## Model Building"
      ]
    },
    {
      "cell_type": "markdown",
      "id": "82c89d1c-cf32-4c71-bdca-432bba1b5d03",
      "metadata": {
        "id": "82c89d1c-cf32-4c71-bdca-432bba1b5d03"
      },
      "source": [
        "#### Define the Model"
      ]
    },
    {
      "cell_type": "code",
      "execution_count": null,
      "id": "5694560a-31d7-46c8-9187-2a57e40eb819",
      "metadata": {
        "id": "5694560a-31d7-46c8-9187-2a57e40eb819",
        "outputId": "62752395-2ca6-4bd6-dbf4-297c1597f716"
      },
      "outputs": [
        {
          "name": "stderr",
          "output_type": "stream",
          "text": [
            "/Users/AndiZakyAshari/Documents/Internship/Projects/venv/py311/lib/python3.11/site-packages/keras/src/layers/rnn/rnn.py:204: UserWarning: Do not pass an `input_shape`/`input_dim` argument to a layer. When using Sequential models, prefer using an `Input(shape)` object as the first layer in the model instead.\n",
            "  super().__init__(**kwargs)\n"
          ]
        }
      ],
      "source": [
        "# Define the model\n",
        "model = Sequential()\n",
        "model.add(LSTM(units=64, activation='relu', input_shape=(seq_length, len(features))))\n",
        "model.add(Dense(1))  # Predicting a single value (magnitude)"
      ]
    },
    {
      "cell_type": "markdown",
      "id": "09886593-6836-427c-ae73-30ab4a63c2b5",
      "metadata": {
        "id": "09886593-6836-427c-ae73-30ab4a63c2b5"
      },
      "source": [
        "#### Compile the Model"
      ]
    },
    {
      "cell_type": "code",
      "execution_count": null,
      "id": "1c176baa-3dd4-4ef3-8f1c-6202b1dcf2eb",
      "metadata": {
        "id": "1c176baa-3dd4-4ef3-8f1c-6202b1dcf2eb"
      },
      "outputs": [],
      "source": [
        "model.compile(optimizer='adam', loss='mean_squared_error', metrics=['mae'])"
      ]
    },
    {
      "cell_type": "markdown",
      "id": "147b0e6a-2c51-4c95-a855-611b01f34929",
      "metadata": {
        "id": "147b0e6a-2c51-4c95-a855-611b01f34929"
      },
      "source": [
        "#### Train the Model"
      ]
    },
    {
      "cell_type": "code",
      "execution_count": null,
      "id": "2451eb2f-80db-409a-aa4c-7fd93575a12e",
      "metadata": {
        "scrolled": true,
        "id": "2451eb2f-80db-409a-aa4c-7fd93575a12e",
        "outputId": "061cb9ee-1c34-4eb4-b743-7317f7678042"
      },
      "outputs": [
        {
          "name": "stdout",
          "output_type": "stream",
          "text": [
            "Epoch 1/100\n",
            "\u001b[1m2311/2311\u001b[0m \u001b[32m━━━━━━━━━━━━━━━━━━━━\u001b[0m\u001b[37m\u001b[0m \u001b[1m5s\u001b[0m 2ms/step - loss: 0.8302 - mae: 0.6036 - val_loss: 0.6240 - val_mae: 0.6443\n",
            "Epoch 2/100\n",
            "\u001b[1m2311/2311\u001b[0m \u001b[32m━━━━━━━━━━━━━━━━━━━━\u001b[0m\u001b[37m\u001b[0m \u001b[1m4s\u001b[0m 2ms/step - loss: 0.3706 - mae: 0.4649 - val_loss: 0.6098 - val_mae: 0.6375\n",
            "Epoch 3/100\n",
            "\u001b[1m2311/2311\u001b[0m \u001b[32m━━━━━━━━━━━━━━━━━━━━\u001b[0m\u001b[37m\u001b[0m \u001b[1m4s\u001b[0m 2ms/step - loss: 0.3683 - mae: 0.4624 - val_loss: 0.6264 - val_mae: 0.6457\n",
            "Epoch 4/100\n",
            "\u001b[1m2311/2311\u001b[0m \u001b[32m━━━━━━━━━━━━━━━━━━━━\u001b[0m\u001b[37m\u001b[0m \u001b[1m4s\u001b[0m 2ms/step - loss: 0.3713 - mae: 0.4655 - val_loss: 0.6089 - val_mae: 0.6374\n",
            "Epoch 5/100\n",
            "\u001b[1m2311/2311\u001b[0m \u001b[32m━━━━━━━━━━━━━━━━━━━━\u001b[0m\u001b[37m\u001b[0m \u001b[1m4s\u001b[0m 2ms/step - loss: 0.3660 - mae: 0.4605 - val_loss: 0.6910 - val_mae: 0.6764\n",
            "Epoch 6/100\n",
            "\u001b[1m2311/2311\u001b[0m \u001b[32m━━━━━━━━━━━━━━━━━━━━\u001b[0m\u001b[37m\u001b[0m \u001b[1m4s\u001b[0m 2ms/step - loss: 0.3661 - mae: 0.4621 - val_loss: 0.6355 - val_mae: 0.6498\n",
            "Epoch 7/100\n",
            "\u001b[1m2311/2311\u001b[0m \u001b[32m━━━━━━━━━━━━━━━━━━━━\u001b[0m\u001b[37m\u001b[0m \u001b[1m4s\u001b[0m 2ms/step - loss: 0.3652 - mae: 0.4608 - val_loss: 0.6123 - val_mae: 0.6394\n",
            "Epoch 8/100\n",
            "\u001b[1m2311/2311\u001b[0m \u001b[32m━━━━━━━━━━━━━━━━━━━━\u001b[0m\u001b[37m\u001b[0m \u001b[1m4s\u001b[0m 2ms/step - loss: 0.3645 - mae: 0.4599 - val_loss: 0.6144 - val_mae: 0.6405\n",
            "Epoch 9/100\n",
            "\u001b[1m2311/2311\u001b[0m \u001b[32m━━━━━━━━━━━━━━━━━━━━\u001b[0m\u001b[37m\u001b[0m \u001b[1m4s\u001b[0m 2ms/step - loss: 0.3639 - mae: 0.4588 - val_loss: 0.6133 - val_mae: 0.6401\n",
            "Epoch 10/100\n",
            "\u001b[1m2311/2311\u001b[0m \u001b[32m━━━━━━━━━━━━━━━━━━━━\u001b[0m\u001b[37m\u001b[0m \u001b[1m4s\u001b[0m 2ms/step - loss: 0.3683 - mae: 0.4621 - val_loss: 0.6689 - val_mae: 0.6668\n",
            "Epoch 11/100\n",
            "\u001b[1m2311/2311\u001b[0m \u001b[32m━━━━━━━━━━━━━━━━━━━━\u001b[0m\u001b[37m\u001b[0m \u001b[1m4s\u001b[0m 2ms/step - loss: 0.3669 - mae: 0.4610 - val_loss: 0.6179 - val_mae: 0.6419\n",
            "Epoch 12/100\n",
            "\u001b[1m2311/2311\u001b[0m \u001b[32m━━━━━━━━━━━━━━━━━━━━\u001b[0m\u001b[37m\u001b[0m \u001b[1m4s\u001b[0m 2ms/step - loss: 0.3673 - mae: 0.4613 - val_loss: 0.6154 - val_mae: 0.6415\n",
            "Epoch 13/100\n",
            "\u001b[1m2311/2311\u001b[0m \u001b[32m━━━━━━━━━━━━━━━━━━━━\u001b[0m\u001b[37m\u001b[0m \u001b[1m4s\u001b[0m 2ms/step - loss: 0.3681 - mae: 0.4628 - val_loss: 0.6100 - val_mae: 0.6377\n",
            "Epoch 14/100\n",
            "\u001b[1m2311/2311\u001b[0m \u001b[32m━━━━━━━━━━━━━━━━━━━━\u001b[0m\u001b[37m\u001b[0m \u001b[1m4s\u001b[0m 2ms/step - loss: 0.3627 - mae: 0.4576 - val_loss: 0.6230 - val_mae: 0.6451\n",
            "Epoch 15/100\n",
            "\u001b[1m2311/2311\u001b[0m \u001b[32m━━━━━━━━━━━━━━━━━━━━\u001b[0m\u001b[37m\u001b[0m \u001b[1m4s\u001b[0m 2ms/step - loss: 0.3642 - mae: 0.4594 - val_loss: 0.6169 - val_mae: 0.6416\n",
            "Epoch 16/100\n",
            "\u001b[1m2311/2311\u001b[0m \u001b[32m━━━━━━━━━━━━━━━━━━━━\u001b[0m\u001b[37m\u001b[0m \u001b[1m4s\u001b[0m 2ms/step - loss: 0.3643 - mae: 0.4592 - val_loss: 0.6124 - val_mae: 0.6393\n",
            "Epoch 17/100\n",
            "\u001b[1m2311/2311\u001b[0m \u001b[32m━━━━━━━━━━━━━━━━━━━━\u001b[0m\u001b[37m\u001b[0m \u001b[1m4s\u001b[0m 2ms/step - loss: 0.3602 - mae: 0.4579 - val_loss: 0.6090 - val_mae: 0.6372\n",
            "Epoch 18/100\n",
            "\u001b[1m2311/2311\u001b[0m \u001b[32m━━━━━━━━━━━━━━━━━━━━\u001b[0m\u001b[37m\u001b[0m \u001b[1m4s\u001b[0m 2ms/step - loss: 0.3626 - mae: 0.4581 - val_loss: 0.6067 - val_mae: 0.6360\n",
            "Epoch 19/100\n",
            "\u001b[1m2311/2311\u001b[0m \u001b[32m━━━━━━━━━━━━━━━━━━━━\u001b[0m\u001b[37m\u001b[0m \u001b[1m4s\u001b[0m 2ms/step - loss: 0.3613 - mae: 0.4571 - val_loss: 0.6079 - val_mae: 0.6378\n",
            "Epoch 20/100\n",
            "\u001b[1m2311/2311\u001b[0m \u001b[32m━━━━━━━━━━━━━━━━━━━━\u001b[0m\u001b[37m\u001b[0m \u001b[1m4s\u001b[0m 2ms/step - loss: 0.3590 - mae: 0.4557 - val_loss: 0.6267 - val_mae: 0.6467\n",
            "Epoch 21/100\n",
            "\u001b[1m2311/2311\u001b[0m \u001b[32m━━━━━━━━━━━━━━━━━━━━\u001b[0m\u001b[37m\u001b[0m \u001b[1m4s\u001b[0m 2ms/step - loss: 0.3629 - mae: 0.4591 - val_loss: 0.6081 - val_mae: 0.6377\n",
            "Epoch 22/100\n",
            "\u001b[1m2311/2311\u001b[0m \u001b[32m━━━━━━━━━━━━━━━━━━━━\u001b[0m\u001b[37m\u001b[0m \u001b[1m4s\u001b[0m 2ms/step - loss: 0.3646 - mae: 0.4605 - val_loss: 0.6205 - val_mae: 0.6436\n",
            "Epoch 23/100\n",
            "\u001b[1m2311/2311\u001b[0m \u001b[32m━━━━━━━━━━━━━━━━━━━━\u001b[0m\u001b[37m\u001b[0m \u001b[1m4s\u001b[0m 2ms/step - loss: 0.3583 - mae: 0.4564 - val_loss: 0.5993 - val_mae: 0.6334\n",
            "Epoch 24/100\n",
            "\u001b[1m2311/2311\u001b[0m \u001b[32m━━━━━━━━━━━━━━━━━━━━\u001b[0m\u001b[37m\u001b[0m \u001b[1m4s\u001b[0m 2ms/step - loss: 0.3640 - mae: 0.4601 - val_loss: 0.6104 - val_mae: 0.6395\n",
            "Epoch 25/100\n",
            "\u001b[1m2311/2311\u001b[0m \u001b[32m━━━━━━━━━━━━━━━━━━━━\u001b[0m\u001b[37m\u001b[0m \u001b[1m4s\u001b[0m 2ms/step - loss: 0.3594 - mae: 0.4571 - val_loss: 0.6165 - val_mae: 0.6425\n",
            "Epoch 26/100\n",
            "\u001b[1m2311/2311\u001b[0m \u001b[32m━━━━━━━━━━━━━━━━━━━━\u001b[0m\u001b[37m\u001b[0m \u001b[1m4s\u001b[0m 2ms/step - loss: 0.3606 - mae: 0.4561 - val_loss: 0.6054 - val_mae: 0.6366\n",
            "Epoch 27/100\n",
            "\u001b[1m2311/2311\u001b[0m \u001b[32m━━━━━━━━━━━━━━━━━━━━\u001b[0m\u001b[37m\u001b[0m \u001b[1m4s\u001b[0m 2ms/step - loss: 0.3619 - mae: 0.4586 - val_loss: 0.6053 - val_mae: 0.6371\n",
            "Epoch 28/100\n",
            "\u001b[1m2311/2311\u001b[0m \u001b[32m━━━━━━━━━━━━━━━━━━━━\u001b[0m\u001b[37m\u001b[0m \u001b[1m4s\u001b[0m 2ms/step - loss: 0.3645 - mae: 0.4597 - val_loss: 0.6101 - val_mae: 0.6393\n",
            "Epoch 29/100\n",
            "\u001b[1m2311/2311\u001b[0m \u001b[32m━━━━━━━━━━━━━━━━━━━━\u001b[0m\u001b[37m\u001b[0m \u001b[1m4s\u001b[0m 2ms/step - loss: 0.3627 - mae: 0.4594 - val_loss: 0.6094 - val_mae: 0.6387\n",
            "Epoch 30/100\n",
            "\u001b[1m2311/2311\u001b[0m \u001b[32m━━━━━━━━━━━━━━━━━━━━\u001b[0m\u001b[37m\u001b[0m \u001b[1m4s\u001b[0m 2ms/step - loss: 0.3559 - mae: 0.4546 - val_loss: 0.6013 - val_mae: 0.6346\n",
            "Epoch 31/100\n",
            "\u001b[1m2311/2311\u001b[0m \u001b[32m━━━━━━━━━━━━━━━━━━━━\u001b[0m\u001b[37m\u001b[0m \u001b[1m4s\u001b[0m 2ms/step - loss: 0.3615 - mae: 0.4584 - val_loss: 0.6177 - val_mae: 0.6436\n",
            "Epoch 32/100\n",
            "\u001b[1m2311/2311\u001b[0m \u001b[32m━━━━━━━━━━━━━━━━━━━━\u001b[0m\u001b[37m\u001b[0m \u001b[1m4s\u001b[0m 2ms/step - loss: 0.3580 - mae: 0.4568 - val_loss: 0.6022 - val_mae: 0.6346\n",
            "Epoch 33/100\n",
            "\u001b[1m2311/2311\u001b[0m \u001b[32m━━━━━━━━━━━━━━━━━━━━\u001b[0m\u001b[37m\u001b[0m \u001b[1m4s\u001b[0m 2ms/step - loss: 0.3599 - mae: 0.4579 - val_loss: 0.6095 - val_mae: 0.6391\n",
            "Epoch 34/100\n",
            "\u001b[1m2311/2311\u001b[0m \u001b[32m━━━━━━━━━━━━━━━━━━━━\u001b[0m\u001b[37m\u001b[0m \u001b[1m4s\u001b[0m 2ms/step - loss: 0.3578 - mae: 0.4558 - val_loss: 0.6111 - val_mae: 0.6397\n",
            "Epoch 35/100\n",
            "\u001b[1m2311/2311\u001b[0m \u001b[32m━━━━━━━━━━━━━━━━━━━━\u001b[0m\u001b[37m\u001b[0m \u001b[1m4s\u001b[0m 2ms/step - loss: 0.3524 - mae: 0.4518 - val_loss: 0.6047 - val_mae: 0.6367\n",
            "Epoch 36/100\n",
            "\u001b[1m2311/2311\u001b[0m \u001b[32m━━━━━━━━━━━━━━━━━━━━\u001b[0m\u001b[37m\u001b[0m \u001b[1m4s\u001b[0m 2ms/step - loss: 0.3552 - mae: 0.4546 - val_loss: 0.5976 - val_mae: 0.6327\n",
            "Epoch 37/100\n",
            "\u001b[1m2311/2311\u001b[0m \u001b[32m━━━━━━━━━━━━━━━━━━━━\u001b[0m\u001b[37m\u001b[0m \u001b[1m4s\u001b[0m 2ms/step - loss: 0.3603 - mae: 0.4579 - val_loss: 0.6042 - val_mae: 0.6363\n",
            "Epoch 38/100\n",
            "\u001b[1m2311/2311\u001b[0m \u001b[32m━━━━━━━━━━━━━━━━━━━━\u001b[0m\u001b[37m\u001b[0m \u001b[1m4s\u001b[0m 2ms/step - loss: 0.3585 - mae: 0.4567 - val_loss: 0.6045 - val_mae: 0.6360\n",
            "Epoch 39/100\n",
            "\u001b[1m2311/2311\u001b[0m \u001b[32m━━━━━━━━━━━━━━━━━━━━\u001b[0m\u001b[37m\u001b[0m \u001b[1m4s\u001b[0m 2ms/step - loss: 0.3559 - mae: 0.4554 - val_loss: 0.6067 - val_mae: 0.6377\n",
            "Epoch 40/100\n",
            "\u001b[1m2311/2311\u001b[0m \u001b[32m━━━━━━━━━━━━━━━━━━━━\u001b[0m\u001b[37m\u001b[0m \u001b[1m4s\u001b[0m 2ms/step - loss: 0.3586 - mae: 0.4560 - val_loss: 0.6032 - val_mae: 0.6362\n",
            "Epoch 41/100\n",
            "\u001b[1m2311/2311\u001b[0m \u001b[32m━━━━━━━━━━━━━━━━━━━━\u001b[0m\u001b[37m\u001b[0m \u001b[1m4s\u001b[0m 2ms/step - loss: 0.3540 - mae: 0.4533 - val_loss: 0.6051 - val_mae: 0.6364\n",
            "Epoch 42/100\n",
            "\u001b[1m2311/2311\u001b[0m \u001b[32m━━━━━━━━━━━━━━━━━━━━\u001b[0m\u001b[37m\u001b[0m \u001b[1m4s\u001b[0m 2ms/step - loss: 0.3599 - mae: 0.4569 - val_loss: 0.6090 - val_mae: 0.6394\n",
            "Epoch 43/100\n",
            "\u001b[1m2311/2311\u001b[0m \u001b[32m━━━━━━━━━━━━━━━━━━━━\u001b[0m\u001b[37m\u001b[0m \u001b[1m4s\u001b[0m 2ms/step - loss: 0.3555 - mae: 0.4536 - val_loss: 0.5974 - val_mae: 0.6333\n",
            "Epoch 44/100\n",
            "\u001b[1m2311/2311\u001b[0m \u001b[32m━━━━━━━━━━━━━━━━━━━━\u001b[0m\u001b[37m\u001b[0m \u001b[1m4s\u001b[0m 2ms/step - loss: 0.3543 - mae: 0.4534 - val_loss: 0.5981 - val_mae: 0.6331\n",
            "Epoch 45/100\n",
            "\u001b[1m2311/2311\u001b[0m \u001b[32m━━━━━━━━━━━━━━━━━━━━\u001b[0m\u001b[37m\u001b[0m \u001b[1m4s\u001b[0m 2ms/step - loss: 0.3567 - mae: 0.4563 - val_loss: 0.6036 - val_mae: 0.6361\n",
            "Epoch 46/100\n",
            "\u001b[1m2311/2311\u001b[0m \u001b[32m━━━━━━━━━━━━━━━━━━━━\u001b[0m\u001b[37m\u001b[0m \u001b[1m4s\u001b[0m 2ms/step - loss: 0.3559 - mae: 0.4553 - val_loss: 0.6043 - val_mae: 0.6365\n",
            "Epoch 47/100\n",
            "\u001b[1m2311/2311\u001b[0m \u001b[32m━━━━━━━━━━━━━━━━━━━━\u001b[0m\u001b[37m\u001b[0m \u001b[1m4s\u001b[0m 2ms/step - loss: 0.3589 - mae: 0.4570 - val_loss: 0.6031 - val_mae: 0.6350\n",
            "Epoch 48/100\n",
            "\u001b[1m2311/2311\u001b[0m \u001b[32m━━━━━━━━━━━━━━━━━━━━\u001b[0m\u001b[37m\u001b[0m \u001b[1m4s\u001b[0m 2ms/step - loss: 0.3563 - mae: 0.4551 - val_loss: 0.6036 - val_mae: 0.6354\n",
            "Epoch 49/100\n",
            "\u001b[1m2311/2311\u001b[0m \u001b[32m━━━━━━━━━━━━━━━━━━━━\u001b[0m\u001b[37m\u001b[0m \u001b[1m4s\u001b[0m 2ms/step - loss: 0.3569 - mae: 0.4552 - val_loss: 0.6019 - val_mae: 0.6355\n",
            "Epoch 50/100\n",
            "\u001b[1m2311/2311\u001b[0m \u001b[32m━━━━━━━━━━━━━━━━━━━━\u001b[0m\u001b[37m\u001b[0m \u001b[1m4s\u001b[0m 2ms/step - loss: 0.3518 - mae: 0.4518 - val_loss: 0.6044 - val_mae: 0.6366\n",
            "Epoch 51/100\n",
            "\u001b[1m2311/2311\u001b[0m \u001b[32m━━━━━━━━━━━━━━━━━━━━\u001b[0m\u001b[37m\u001b[0m \u001b[1m4s\u001b[0m 2ms/step - loss: 0.3564 - mae: 0.4553 - val_loss: 0.6090 - val_mae: 0.6394\n",
            "Epoch 52/100\n",
            "\u001b[1m2311/2311\u001b[0m \u001b[32m━━━━━━━━━━━━━━━━━━━━\u001b[0m\u001b[37m\u001b[0m \u001b[1m4s\u001b[0m 2ms/step - loss: 0.3602 - mae: 0.4575 - val_loss: 0.6092 - val_mae: 0.6390\n",
            "Epoch 53/100\n",
            "\u001b[1m2311/2311\u001b[0m \u001b[32m━━━━━━━━━━━━━━━━━━━━\u001b[0m\u001b[37m\u001b[0m \u001b[1m4s\u001b[0m 2ms/step - loss: 0.3564 - mae: 0.4555 - val_loss: 0.6008 - val_mae: 0.6346\n",
            "Epoch 54/100\n",
            "\u001b[1m2311/2311\u001b[0m \u001b[32m━━━━━━━━━━━━━━━━━━━━\u001b[0m\u001b[37m\u001b[0m \u001b[1m4s\u001b[0m 2ms/step - loss: 0.3566 - mae: 0.4555 - val_loss: 0.5977 - val_mae: 0.6327\n",
            "Epoch 55/100\n",
            "\u001b[1m2311/2311\u001b[0m \u001b[32m━━━━━━━━━━━━━━━━━━━━\u001b[0m\u001b[37m\u001b[0m \u001b[1m4s\u001b[0m 2ms/step - loss: 0.3531 - mae: 0.4537 - val_loss: 0.6010 - val_mae: 0.6354\n",
            "Epoch 56/100\n",
            "\u001b[1m2311/2311\u001b[0m \u001b[32m━━━━━━━━━━━━━━━━━━━━\u001b[0m\u001b[37m\u001b[0m \u001b[1m4s\u001b[0m 2ms/step - loss: 0.3540 - mae: 0.4544 - val_loss: 0.6194 - val_mae: 0.6444\n",
            "Epoch 57/100\n",
            "\u001b[1m2311/2311\u001b[0m \u001b[32m━━━━━━━━━━━━━━━━━━━━\u001b[0m\u001b[37m\u001b[0m \u001b[1m4s\u001b[0m 2ms/step - loss: 0.3529 - mae: 0.4544 - val_loss: 0.5995 - val_mae: 0.6343\n",
            "Epoch 58/100\n",
            "\u001b[1m2311/2311\u001b[0m \u001b[32m━━━━━━━━━━━━━━━━━━━━\u001b[0m\u001b[37m\u001b[0m \u001b[1m4s\u001b[0m 2ms/step - loss: 0.3515 - mae: 0.4530 - val_loss: 0.6020 - val_mae: 0.6352\n",
            "Epoch 59/100\n",
            "\u001b[1m2311/2311\u001b[0m \u001b[32m━━━━━━━━━━━━━━━━━━━━\u001b[0m\u001b[37m\u001b[0m \u001b[1m4s\u001b[0m 2ms/step - loss: 0.3544 - mae: 0.4535 - val_loss: 0.6078 - val_mae: 0.6389\n",
            "Epoch 60/100\n",
            "\u001b[1m2311/2311\u001b[0m \u001b[32m━━━━━━━━━━━━━━━━━━━━\u001b[0m\u001b[37m\u001b[0m \u001b[1m4s\u001b[0m 2ms/step - loss: 0.3546 - mae: 0.4534 - val_loss: 0.6014 - val_mae: 0.6350\n",
            "Epoch 61/100\n",
            "\u001b[1m2311/2311\u001b[0m \u001b[32m━━━━━━━━━━━━━━━━━━━━\u001b[0m\u001b[37m\u001b[0m \u001b[1m4s\u001b[0m 2ms/step - loss: 0.3575 - mae: 0.4545 - val_loss: 0.6019 - val_mae: 0.6354\n",
            "Epoch 62/100\n",
            "\u001b[1m2311/2311\u001b[0m \u001b[32m━━━━━━━━━━━━━━━━━━━━\u001b[0m\u001b[37m\u001b[0m \u001b[1m5s\u001b[0m 2ms/step - loss: 0.3549 - mae: 0.4537 - val_loss: 0.6036 - val_mae: 0.6366\n",
            "Epoch 63/100\n",
            "\u001b[1m2311/2311\u001b[0m \u001b[32m━━━━━━━━━━━━━━━━━━━━\u001b[0m\u001b[37m\u001b[0m \u001b[1m4s\u001b[0m 2ms/step - loss: 0.3555 - mae: 0.4545 - val_loss: 0.6071 - val_mae: 0.6386\n",
            "Epoch 64/100\n",
            "\u001b[1m2311/2311\u001b[0m \u001b[32m━━━━━━━━━━━━━━━━━━━━\u001b[0m\u001b[37m\u001b[0m \u001b[1m4s\u001b[0m 2ms/step - loss: 0.3560 - mae: 0.4540 - val_loss: 0.6101 - val_mae: 0.6391\n",
            "Epoch 65/100\n",
            "\u001b[1m2311/2311\u001b[0m \u001b[32m━━━━━━━━━━━━━━━━━━━━\u001b[0m\u001b[37m\u001b[0m \u001b[1m4s\u001b[0m 2ms/step - loss: 0.3572 - mae: 0.4557 - val_loss: 0.5961 - val_mae: 0.6326\n",
            "Epoch 66/100\n",
            "\u001b[1m2311/2311\u001b[0m \u001b[32m━━━━━━━━━━━━━━━━━━━━\u001b[0m\u001b[37m\u001b[0m \u001b[1m4s\u001b[0m 2ms/step - loss: 0.3546 - mae: 0.4541 - val_loss: 0.5986 - val_mae: 0.6333\n",
            "Epoch 67/100\n",
            "\u001b[1m2311/2311\u001b[0m \u001b[32m━━━━━━━━━━━━━━━━━━━━\u001b[0m\u001b[37m\u001b[0m \u001b[1m5s\u001b[0m 2ms/step - loss: 0.3568 - mae: 0.4546 - val_loss: 0.6070 - val_mae: 0.6382\n",
            "Epoch 68/100\n",
            "\u001b[1m2311/2311\u001b[0m \u001b[32m━━━━━━━━━━━━━━━━━━━━\u001b[0m\u001b[37m\u001b[0m \u001b[1m4s\u001b[0m 2ms/step - loss: 0.3553 - mae: 0.4546 - val_loss: 0.6026 - val_mae: 0.6358\n",
            "Epoch 69/100\n",
            "\u001b[1m2311/2311\u001b[0m \u001b[32m━━━━━━━━━━━━━━━━━━━━\u001b[0m\u001b[37m\u001b[0m \u001b[1m4s\u001b[0m 2ms/step - loss: 0.3509 - mae: 0.4516 - val_loss: 0.5969 - val_mae: 0.6330\n",
            "Epoch 70/100\n",
            "\u001b[1m2311/2311\u001b[0m \u001b[32m━━━━━━━━━━━━━━━━━━━━\u001b[0m\u001b[37m\u001b[0m \u001b[1m4s\u001b[0m 2ms/step - loss: 0.3604 - mae: 0.4584 - val_loss: 0.6011 - val_mae: 0.6350\n",
            "Epoch 71/100\n",
            "\u001b[1m2311/2311\u001b[0m \u001b[32m━━━━━━━━━━━━━━━━━━━━\u001b[0m\u001b[37m\u001b[0m \u001b[1m4s\u001b[0m 2ms/step - loss: 0.3557 - mae: 0.4544 - val_loss: 0.5986 - val_mae: 0.6327\n",
            "Epoch 72/100\n",
            "\u001b[1m2311/2311\u001b[0m \u001b[32m━━━━━━━━━━━━━━━━━━━━\u001b[0m\u001b[37m\u001b[0m \u001b[1m5s\u001b[0m 2ms/step - loss: 0.3532 - mae: 0.4526 - val_loss: 0.6042 - val_mae: 0.6366\n",
            "Epoch 73/100\n",
            "\u001b[1m2311/2311\u001b[0m \u001b[32m━━━━━━━━━━━━━━━━━━━━\u001b[0m\u001b[37m\u001b[0m \u001b[1m4s\u001b[0m 2ms/step - loss: 0.3556 - mae: 0.4546 - val_loss: 0.6008 - val_mae: 0.6345\n",
            "Epoch 74/100\n",
            "\u001b[1m2311/2311\u001b[0m \u001b[32m━━━━━━━━━━━━━━━━━━━━\u001b[0m\u001b[37m\u001b[0m \u001b[1m4s\u001b[0m 2ms/step - loss: 0.3511 - mae: 0.4521 - val_loss: 0.5975 - val_mae: 0.6320\n",
            "Epoch 75/100\n",
            "\u001b[1m2311/2311\u001b[0m \u001b[32m━━━━━━━━━━━━━━━━━━━━\u001b[0m\u001b[37m\u001b[0m \u001b[1m5s\u001b[0m 2ms/step - loss: 0.3521 - mae: 0.4522 - val_loss: 0.6064 - val_mae: 0.6377\n",
            "Epoch 76/100\n",
            "\u001b[1m2311/2311\u001b[0m \u001b[32m━━━━━━━━━━━━━━━━━━━━\u001b[0m\u001b[37m\u001b[0m \u001b[1m5s\u001b[0m 2ms/step - loss: 0.3558 - mae: 0.4557 - val_loss: 0.6084 - val_mae: 0.6389\n",
            "Epoch 77/100\n",
            "\u001b[1m2311/2311\u001b[0m \u001b[32m━━━━━━━━━━━━━━━━━━━━\u001b[0m\u001b[37m\u001b[0m \u001b[1m4s\u001b[0m 2ms/step - loss: 0.3553 - mae: 0.4540 - val_loss: 0.6123 - val_mae: 0.6410\n",
            "Epoch 78/100\n",
            "\u001b[1m2311/2311\u001b[0m \u001b[32m━━━━━━━━━━━━━━━━━━━━\u001b[0m\u001b[37m\u001b[0m \u001b[1m4s\u001b[0m 2ms/step - loss: 0.3519 - mae: 0.4516 - val_loss: 0.6052 - val_mae: 0.6373\n",
            "Epoch 79/100\n",
            "\u001b[1m2311/2311\u001b[0m \u001b[32m━━━━━━━━━━━━━━━━━━━━\u001b[0m\u001b[37m\u001b[0m \u001b[1m4s\u001b[0m 2ms/step - loss: 0.3576 - mae: 0.4561 - val_loss: 0.6072 - val_mae: 0.6368\n",
            "Epoch 80/100\n",
            "\u001b[1m2311/2311\u001b[0m \u001b[32m━━━━━━━━━━━━━━━━━━━━\u001b[0m\u001b[37m\u001b[0m \u001b[1m5s\u001b[0m 2ms/step - loss: 0.3545 - mae: 0.4545 - val_loss: 0.6049 - val_mae: 0.6367\n",
            "Epoch 81/100\n",
            "\u001b[1m2311/2311\u001b[0m \u001b[32m━━━━━━━━━━━━━━━━━━━━\u001b[0m\u001b[37m\u001b[0m \u001b[1m4s\u001b[0m 2ms/step - loss: 0.3539 - mae: 0.4538 - val_loss: 0.6003 - val_mae: 0.6348\n",
            "Epoch 82/100\n",
            "\u001b[1m2311/2311\u001b[0m \u001b[32m━━━━━━━━━━━━━━━━━━━━\u001b[0m\u001b[37m\u001b[0m \u001b[1m4s\u001b[0m 2ms/step - loss: 0.3551 - mae: 0.4538 - val_loss: 0.6093 - val_mae: 0.6391\n",
            "Epoch 83/100\n",
            "\u001b[1m2311/2311\u001b[0m \u001b[32m━━━━━━━━━━━━━━━━━━━━\u001b[0m\u001b[37m\u001b[0m \u001b[1m4s\u001b[0m 2ms/step - loss: 0.3557 - mae: 0.4550 - val_loss: 0.6094 - val_mae: 0.6396\n",
            "Epoch 84/100\n",
            "\u001b[1m2311/2311\u001b[0m \u001b[32m━━━━━━━━━━━━━━━━━━━━\u001b[0m\u001b[37m\u001b[0m \u001b[1m5s\u001b[0m 2ms/step - loss: 0.3563 - mae: 0.4545 - val_loss: 0.6058 - val_mae: 0.6378\n",
            "Epoch 85/100\n",
            "\u001b[1m2311/2311\u001b[0m \u001b[32m━━━━━━━━━━━━━━━━━━━━\u001b[0m\u001b[37m\u001b[0m \u001b[1m4s\u001b[0m 2ms/step - loss: 0.3490 - mae: 0.4505 - val_loss: 0.5996 - val_mae: 0.6335\n",
            "Epoch 86/100\n",
            "\u001b[1m2311/2311\u001b[0m \u001b[32m━━━━━━━━━━━━━━━━━━━━\u001b[0m\u001b[37m\u001b[0m \u001b[1m4s\u001b[0m 2ms/step - loss: 0.3548 - mae: 0.4548 - val_loss: 0.5988 - val_mae: 0.6342\n",
            "Epoch 87/100\n",
            "\u001b[1m2311/2311\u001b[0m \u001b[32m━━━━━━━━━━━━━━━━━━━━\u001b[0m\u001b[37m\u001b[0m \u001b[1m4s\u001b[0m 2ms/step - loss: 0.3557 - mae: 0.4548 - val_loss: 0.6016 - val_mae: 0.6353\n",
            "Epoch 88/100\n",
            "\u001b[1m2311/2311\u001b[0m \u001b[32m━━━━━━━━━━━━━━━━━━━━\u001b[0m\u001b[37m\u001b[0m \u001b[1m5s\u001b[0m 2ms/step - loss: 0.3525 - mae: 0.4526 - val_loss: 0.6010 - val_mae: 0.6351\n",
            "Epoch 89/100\n",
            "\u001b[1m2311/2311\u001b[0m \u001b[32m━━━━━━━━━━━━━━━━━━━━\u001b[0m\u001b[37m\u001b[0m \u001b[1m4s\u001b[0m 2ms/step - loss: 0.3526 - mae: 0.4522 - val_loss: 0.6048 - val_mae: 0.6371\n",
            "Epoch 90/100\n",
            "\u001b[1m2311/2311\u001b[0m \u001b[32m━━━━━━━━━━━━━━━━━━━━\u001b[0m\u001b[37m\u001b[0m \u001b[1m4s\u001b[0m 2ms/step - loss: 0.3563 - mae: 0.4544 - val_loss: 0.6083 - val_mae: 0.6382\n",
            "Epoch 91/100\n",
            "\u001b[1m2311/2311\u001b[0m \u001b[32m━━━━━━━━━━━━━━━━━━━━\u001b[0m\u001b[37m\u001b[0m \u001b[1m4s\u001b[0m 2ms/step - loss: 0.3516 - mae: 0.4529 - val_loss: 0.6050 - val_mae: 0.6371\n",
            "Epoch 92/100\n",
            "\u001b[1m2311/2311\u001b[0m \u001b[32m━━━━━━━━━━━━━━━━━━━━\u001b[0m\u001b[37m\u001b[0m \u001b[1m4s\u001b[0m 2ms/step - loss: 0.3570 - mae: 0.4568 - val_loss: 0.5980 - val_mae: 0.6331\n",
            "Epoch 93/100\n",
            "\u001b[1m2311/2311\u001b[0m \u001b[32m━━━━━━━━━━━━━━━━━━━━\u001b[0m\u001b[37m\u001b[0m \u001b[1m4s\u001b[0m 2ms/step - loss: 0.3512 - mae: 0.4516 - val_loss: 0.6030 - val_mae: 0.6361\n",
            "Epoch 94/100\n",
            "\u001b[1m2311/2311\u001b[0m \u001b[32m━━━━━━━━━━━━━━━━━━━━\u001b[0m\u001b[37m\u001b[0m \u001b[1m4s\u001b[0m 2ms/step - loss: 0.3515 - mae: 0.4525 - val_loss: 0.6005 - val_mae: 0.6350\n",
            "Epoch 95/100\n",
            "\u001b[1m2311/2311\u001b[0m \u001b[32m━━━━━━━━━━━━━━━━━━━━\u001b[0m\u001b[37m\u001b[0m \u001b[1m5s\u001b[0m 2ms/step - loss: 0.3507 - mae: 0.4520 - val_loss: 0.6030 - val_mae: 0.6358\n",
            "Epoch 96/100\n",
            "\u001b[1m2311/2311\u001b[0m \u001b[32m━━━━━━━━━━━━━━━━━━━━\u001b[0m\u001b[37m\u001b[0m \u001b[1m4s\u001b[0m 2ms/step - loss: 0.3530 - mae: 0.4531 - val_loss: 0.6069 - val_mae: 0.6380\n",
            "Epoch 97/100\n",
            "\u001b[1m2311/2311\u001b[0m \u001b[32m━━━━━━━━━━━━━━━━━━━━\u001b[0m\u001b[37m\u001b[0m \u001b[1m4s\u001b[0m 2ms/step - loss: 0.3506 - mae: 0.4522 - val_loss: 0.6028 - val_mae: 0.6361\n",
            "Epoch 98/100\n",
            "\u001b[1m2311/2311\u001b[0m \u001b[32m━━━━━━━━━━━━━━━━━━━━\u001b[0m\u001b[37m\u001b[0m \u001b[1m4s\u001b[0m 2ms/step - loss: 0.3495 - mae: 0.4511 - val_loss: 0.5988 - val_mae: 0.6338\n",
            "Epoch 99/100\n",
            "\u001b[1m2311/2311\u001b[0m \u001b[32m━━━━━━━━━━━━━━━━━━━━\u001b[0m\u001b[37m\u001b[0m \u001b[1m5s\u001b[0m 2ms/step - loss: 0.3520 - mae: 0.4523 - val_loss: 0.6006 - val_mae: 0.6347\n",
            "Epoch 100/100\n",
            "\u001b[1m2311/2311\u001b[0m \u001b[32m━━━━━━━━━━━━━━━━━━━━\u001b[0m\u001b[37m\u001b[0m \u001b[1m4s\u001b[0m 2ms/step - loss: 0.3470 - mae: 0.4497 - val_loss: 0.6026 - val_mae: 0.6353\n"
          ]
        }
      ],
      "source": [
        "history = model.fit(\n",
        "    X_train, y_train,\n",
        "    epochs=100,\n",
        "    batch_size=32,\n",
        "    validation_data=(X_val, y_val),\n",
        "    verbose=1\n",
        ")"
      ]
    },
    {
      "cell_type": "markdown",
      "id": "4222bf8a-cfc4-4b05-bf6b-20652f2919dd",
      "metadata": {
        "id": "4222bf8a-cfc4-4b05-bf6b-20652f2919dd"
      },
      "source": [
        "#### Evaluate the Test Set"
      ]
    },
    {
      "cell_type": "code",
      "execution_count": null,
      "id": "752c8d69-1e2b-48d6-8049-6ccfcc972b10",
      "metadata": {
        "id": "752c8d69-1e2b-48d6-8049-6ccfcc972b10",
        "outputId": "70e7580a-7c2a-4cda-ca97-7d73a2c5b782"
      },
      "outputs": [
        {
          "name": "stdout",
          "output_type": "stream",
          "text": [
            "\u001b[1m495/495\u001b[0m \u001b[32m━━━━━━━━━━━━━━━━━━━━\u001b[0m\u001b[37m\u001b[0m \u001b[1m0s\u001b[0m 647us/step - loss: 0.5674 - mae: 0.6080\n",
            "Test Loss: 0.6014765501022339, Test MAE: 0.6316521763801575\n"
          ]
        }
      ],
      "source": [
        "test_loss, test_mae = model.evaluate(X_test, y_test)\n",
        "print(f'Test Loss: {test_loss}, Test MAE: {test_mae}')"
      ]
    },
    {
      "cell_type": "markdown",
      "id": "3b94f331-228a-447c-a32f-789c7e7b0b43",
      "metadata": {
        "id": "3b94f331-228a-447c-a32f-789c7e7b0b43"
      },
      "source": [
        "#### Predict the Test Set"
      ]
    },
    {
      "cell_type": "code",
      "execution_count": null,
      "id": "854c2bab-16b1-4ebe-83b7-f4f56cf94403",
      "metadata": {
        "id": "854c2bab-16b1-4ebe-83b7-f4f56cf94403",
        "outputId": "e6e127a8-9a4a-4549-de52-e1845064133e"
      },
      "outputs": [
        {
          "name": "stdout",
          "output_type": "stream",
          "text": [
            "\u001b[1m495/495\u001b[0m \u001b[32m━━━━━━━━━━━━━━━━━━━━\u001b[0m\u001b[37m\u001b[0m \u001b[1m0s\u001b[0m 630us/step\n"
          ]
        }
      ],
      "source": [
        "y_pred = model.predict(X_test)\n",
        "y_pred_flat = y_pred.flatten()\n",
        "\n",
        "\n",
        "test_data = test_data.reset_index(drop=True)\n",
        "test_data_adjusted = test_data.iloc[seq_length:].reset_index(drop=True)\n",
        "test_data_adjusted['predicted mag'] = y_pred_flat"
      ]
    },
    {
      "cell_type": "code",
      "execution_count": null,
      "id": "3d2b0fb4-1a7f-4d49-a010-554a4aff81c6",
      "metadata": {
        "id": "3d2b0fb4-1a7f-4d49-a010-554a4aff81c6",
        "outputId": "b17d9a8c-119e-43d4-bfe6-bddc29574b8e"
      },
      "outputs": [
        {
          "data": {
            "text/html": [
              "<div>\n",
              "<style scoped>\n",
              "    .dataframe tbody tr th:only-of-type {\n",
              "        vertical-align: middle;\n",
              "    }\n",
              "\n",
              "    .dataframe tbody tr th {\n",
              "        vertical-align: top;\n",
              "    }\n",
              "\n",
              "    .dataframe thead th {\n",
              "        text-align: right;\n",
              "    }\n",
              "</style>\n",
              "<table border=\"1\" class=\"dataframe\">\n",
              "  <thead>\n",
              "    <tr style=\"text-align: right;\">\n",
              "      <th></th>\n",
              "      <th>latitude</th>\n",
              "      <th>longitude</th>\n",
              "      <th>depth</th>\n",
              "      <th>mag</th>\n",
              "      <th>predicted mag</th>\n",
              "    </tr>\n",
              "  </thead>\n",
              "  <tbody>\n",
              "    <tr>\n",
              "      <th>0</th>\n",
              "      <td>-0.18</td>\n",
              "      <td>123.29</td>\n",
              "      <td>11.0</td>\n",
              "      <td>3.0</td>\n",
              "      <td>3.684502</td>\n",
              "    </tr>\n",
              "    <tr>\n",
              "      <th>1</th>\n",
              "      <td>-0.22</td>\n",
              "      <td>122.44</td>\n",
              "      <td>30.0</td>\n",
              "      <td>2.9</td>\n",
              "      <td>3.673699</td>\n",
              "    </tr>\n",
              "    <tr>\n",
              "      <th>2</th>\n",
              "      <td>-9.03</td>\n",
              "      <td>124.04</td>\n",
              "      <td>103.0</td>\n",
              "      <td>4.4</td>\n",
              "      <td>3.560390</td>\n",
              "    </tr>\n",
              "    <tr>\n",
              "      <th>3</th>\n",
              "      <td>-8.17</td>\n",
              "      <td>107.58</td>\n",
              "      <td>53.0</td>\n",
              "      <td>4.1</td>\n",
              "      <td>3.717516</td>\n",
              "    </tr>\n",
              "    <tr>\n",
              "      <th>4</th>\n",
              "      <td>4.48</td>\n",
              "      <td>96.41</td>\n",
              "      <td>10.0</td>\n",
              "      <td>3.3</td>\n",
              "      <td>3.898545</td>\n",
              "    </tr>\n",
              "    <tr>\n",
              "      <th>...</th>\n",
              "      <td>...</td>\n",
              "      <td>...</td>\n",
              "      <td>...</td>\n",
              "      <td>...</td>\n",
              "      <td>...</td>\n",
              "    </tr>\n",
              "    <tr>\n",
              "      <th>15834</th>\n",
              "      <td>3.53</td>\n",
              "      <td>118.82</td>\n",
              "      <td>7.0</td>\n",
              "      <td>2.1</td>\n",
              "      <td>2.666555</td>\n",
              "    </tr>\n",
              "    <tr>\n",
              "      <th>15835</th>\n",
              "      <td>2.42</td>\n",
              "      <td>121.17</td>\n",
              "      <td>3.0</td>\n",
              "      <td>1.8</td>\n",
              "      <td>2.643843</td>\n",
              "    </tr>\n",
              "    <tr>\n",
              "      <th>15836</th>\n",
              "      <td>2.44</td>\n",
              "      <td>120.97</td>\n",
              "      <td>5.0</td>\n",
              "      <td>2.1</td>\n",
              "      <td>2.550112</td>\n",
              "    </tr>\n",
              "    <tr>\n",
              "      <th>15837</th>\n",
              "      <td>1.62</td>\n",
              "      <td>120.22</td>\n",
              "      <td>4.0</td>\n",
              "      <td>2.5</td>\n",
              "      <td>2.987360</td>\n",
              "    </tr>\n",
              "    <tr>\n",
              "      <th>15838</th>\n",
              "      <td>2.33</td>\n",
              "      <td>120.65</td>\n",
              "      <td>10.0</td>\n",
              "      <td>1.9</td>\n",
              "      <td>2.745712</td>\n",
              "    </tr>\n",
              "  </tbody>\n",
              "</table>\n",
              "<p>15839 rows × 5 columns</p>\n",
              "</div>"
            ],
            "text/plain": [
              "       latitude  longitude  depth  mag  predicted mag\n",
              "0         -0.18     123.29   11.0  3.0       3.684502\n",
              "1         -0.22     122.44   30.0  2.9       3.673699\n",
              "2         -9.03     124.04  103.0  4.4       3.560390\n",
              "3         -8.17     107.58   53.0  4.1       3.717516\n",
              "4          4.48      96.41   10.0  3.3       3.898545\n",
              "...         ...        ...    ...  ...            ...\n",
              "15834      3.53     118.82    7.0  2.1       2.666555\n",
              "15835      2.42     121.17    3.0  1.8       2.643843\n",
              "15836      2.44     120.97    5.0  2.1       2.550112\n",
              "15837      1.62     120.22    4.0  2.5       2.987360\n",
              "15838      2.33     120.65   10.0  1.9       2.745712\n",
              "\n",
              "[15839 rows x 5 columns]"
            ]
          },
          "execution_count": 146,
          "metadata": {},
          "output_type": "execute_result"
        }
      ],
      "source": [
        "test_data_adjusted"
      ]
    },
    {
      "cell_type": "code",
      "execution_count": null,
      "id": "969a088a-8915-47f5-b2aa-eacab67475f8",
      "metadata": {
        "id": "969a088a-8915-47f5-b2aa-eacab67475f8",
        "outputId": "1ff47970-15f4-42a0-a805-4b46fb2ee6fb"
      },
      "outputs": [
        {
          "data": {
            "image/png": "[encoded data removed]",
            "text/plain": [
              "<Figure size 1200x600 with 1 Axes>"
            ]
          },
          "metadata": {},
          "output_type": "display_data"
        }
      ],
      "source": [
        "plt.figure(figsize=(12, 6))\n",
        "plt.plot(y_test_flat, label='Actual Magnitude')\n",
        "plt.plot(y_pred_flat, label='Predicted Magnitude')\n",
        "plt.title('Actual vs Predicted Earthquake Magnitudes')\n",
        "plt.xlabel('Sample Index')\n",
        "plt.ylabel('Magnitude')\n",
        "plt.legend()\n",
        "plt.show()"
      ]
    },
    {
      "cell_type": "markdown",
      "id": "6b02b5c5-8e43-4b9d-a794-bb0bfa7183ce",
      "metadata": {
        "id": "6b02b5c5-8e43-4b9d-a794-bb0bfa7183ce"
      },
      "source": [
        "**Observations**\n",
        "\n",
        "1. **Predicted Values Range**:\n",
        "   - The predicted values (orange line) appear to be clustered within a narrow range, mostly between magnitudes **3 and 4.5**.\n",
        "   - This range suggests that the model is not capturing the full variability of the actual magnitudes, especially when they fall outside this range.\n",
        "\n",
        "2. **Actual Values Range**:\n",
        "   - The actual magnitudes (blue line) display a wide range of values, including multiple spikes reaching up to around magnitude **6** and dips below **2**.\n",
        "   - There is substantial variability in the actual magnitudes, with frequent peaks and valleys, indicating natural fluctuations in earthquake intensities.\n",
        "\n",
        "3. **Underestimation and Overestimation**:\n",
        "   - For higher actual magnitudes (above ~4.5), the model consistently underestimates, rarely predicting values above this threshold.\n",
        "   - Similarly, when the actual magnitudes dip below ~3, the model often overestimates, as the predictions remain within a limited range.\n",
        "   \n",
        "4. **Limited Dynamic Response**:\n",
        "   - The model shows a relatively \"flat\" or \"smoothed\" prediction pattern, meaning it does not dynamically respond to the rapid changes in magnitude.\n",
        "   - This flatness may indicate that the model struggles to capture the temporal dependencies or the sudden shifts characteristic of seismic events.\n",
        "\n",
        "**Potential Issues and Root Causes**\n",
        "\n",
        "1. **High Bias / Underfitting**:\n",
        "   - The model appears to be underfitting, which can occur when the model's capacity is insufficient to learn the complexity in the data.\n",
        "   - This might be due to insufficient layers or units in the LSTM or inadequate sequence length to capture the temporal dependencies of earthquake data.\n",
        "\n",
        "2. **Lack of Predictive Features**:\n",
        "   - Earthquake magnitudes are influenced by numerous factors beyond the included features (latitude, longitude, depth).\n",
        "   - Additional geophysical and historical features could help the model better capture the fluctuations in earthquake magnitudes.\n",
        "\n",
        "3. **Possible Data Imbalance**:\n",
        "   - If the dataset contains a high proportion of magnitudes within a narrow range (e.g., between 3 and 4), the model might be biased towards predicting values in this range.\n",
        "\n",
        "4. **Difficulty in Learning Spikes**:\n",
        "   - Earthquake data often include sharp spikes or sudden changes, which are hard for LSTM models to learn if they are infrequent or if the model's capacity is limited.\n",
        "\n",
        "**Recommendations for Improvement**\n",
        "\n",
        "1. **Enhance the Model Architecture**:\n",
        "   - Increase the complexity of the model by adding more LSTM layers or using more units per layer.\n",
        "   - Experiment with **stacked LSTMs** or **Bidirectional LSTMs**, which may improve the model’s ability to capture dependencies in both directions of the sequence.\n",
        "\n",
        "2. **Feature Engineering**:\n",
        "   - Incorporate more features, such as historical earthquake patterns, tectonic plate interactions, or seismic stress indicators.\n",
        "   - Adding temporal features, like the time since the last earthquake, might help capture cyclical patterns.\n",
        "\n",
        "3. **Adjust Sequence Length**:\n",
        "   - Increase the sequence length (currently set at 10) to allow the model to learn longer dependencies.\n",
        "   - Earthquake data often have complex dependencies over time, and a longer sequence may help the model detect these.\n",
        "\n",
        "4. **Consider Ensemble Models**:\n",
        "   - Combine the LSTM model with other machine learning models (e.g., XGBoost) to create an ensemble that might capture different patterns in the data.\n",
        "   - Ensemble models are sometimes more robust to variability in time series data.\n",
        "\n",
        "5. **Use Data Balancing Techniques**:\n",
        "   - If the dataset is skewed toward certain magnitude ranges, try oversampling or undersampling techniques to balance the data.\n",
        "   - Techniques like **SMOTE** could help the model learn more effectively across the entire range of magnitudes.\n",
        "\n",
        "**Conclusion**\n",
        "\n",
        "The plot indicates that the model currently lacks the ability to capture the full range and variability of earthquake magnitudes, likely due to high bias (underfitting). Enhancing the model's architecture, adding relevant features, and fine-tuning the sequence length could improve performance. The recommendations provided aim to address these challenges and may help create a model that better predicts the fluctuations observed in actual earthquake magnitudes."
      ]
    },
    {
      "cell_type": "markdown",
      "id": "4fc0eba7-d96e-4384-bea4-4b3d46f1c49f",
      "metadata": {
        "id": "4fc0eba7-d96e-4384-bea4-4b3d46f1c49f"
      },
      "source": [
        "#### Analyze Model Performance"
      ]
    },
    {
      "cell_type": "code",
      "execution_count": null,
      "id": "052d13da-119c-4c11-887d-3b9ada6028d5",
      "metadata": {
        "id": "052d13da-119c-4c11-887d-3b9ada6028d5",
        "outputId": "0e6681b0-3199-48ef-9f1f-d48f0ce0e4f8"
      },
      "outputs": [
        {
          "name": "stdout",
          "output_type": "stream",
          "text": [
            "R-squared Score: 0.2591125034189502\n"
          ]
        }
      ],
      "source": [
        "# Calculate R-squared\n",
        "r2 = r2_score(y_test_flat, y_pred_flat)\n",
        "print(f'R-squared Score: {r2}')"
      ]
    },
    {
      "cell_type": "markdown",
      "id": "e2f12abc-b70f-452e-9811-f5d48e157ebf",
      "metadata": {
        "id": "e2f12abc-b70f-452e-9811-f5d48e157ebf"
      },
      "source": [
        "**Model Evaluation Metrics**\n",
        "\n",
        "**1. R-squared Score**\n",
        "\n",
        "```plaintext\n",
        "R-squared Score: 0.2591125034189502\n",
        "```\n",
        "\n",
        "**Interpretation:**\n",
        "\n",
        "- **R-squared**, also known as the coefficient of determination, measures the proportion of variance in the dependent variable (earthquake magnitudes) that is predictable from the independent variables (latitude, longitude, depth).\n",
        "- **Value Range:** Ranges from 0 to 1.\n",
        "  - **0** indicates that the model explains none of the variability of the target data.\n",
        "  - **1** indicates that the model explains all the variability of the target data.\n",
        "- **Your Result:** An R-squared of approximately **0.259** means that **25.9%** of the variance in earthquake magnitudes is explained by your model.\n",
        "  - **Implication:** The model captures some patterns but leaves a significant portion (74.1%) of the variance unexplained.\n",
        "\n",
        "#### **2. Test Loss and Test MAE**\n",
        "\n",
        "```plaintext\n",
        "Test Loss: 0.6014765501022339\n",
        "Test MAE: 0.6316521763801575\n",
        "```\n",
        "\n",
        "**Interpretation:**\n",
        "\n",
        "- **Test Loss (Mean Squared Error):**\n",
        "  - Measures the average squared difference between predicted and actual magnitudes.\n",
        "  - A lower value indicates better model performance.\n",
        "- **Test MAE (Mean Absolute Error):**\n",
        "  - Represents the average absolute difference between predicted and actual magnitudes.\n",
        "  - **Your Result:** An MAE of **0.6317** suggests that, on average, your model's predictions are off by **±0.63 magnitude units**.\n",
        "  - **Magnitude Scale Context:**\n",
        "    - Earthquake magnitudes typically range from 0 to 10 on the Richter scale, with most being less than 5.\n",
        "    - An error of 0.63 can be significant, especially for smaller magnitude earthquakes.\n",
        "\n",
        "---\n",
        "\n",
        "### **Insights and Conclusions**\n",
        "\n",
        "#### **1. Model Performance Overview**\n",
        "\n",
        "- **Partial Predictive Capability:**\n",
        "  - The model has learned some underlying patterns, as indicated by the R-squared value being greater than zero.\n",
        "- **Significant Unexplained Variance:**\n",
        "  - A large portion of variance in earthquake magnitudes remains unexplained, indicating potential shortcomings in the model or data.\n",
        "- **Prediction Error:**\n",
        "  - The MAE of 0.63 suggests moderate accuracy but may not be sufficient for precise earthquake magnitude predictions.\n",
        "\n",
        "#### **2. Possible Reasons for the Observed Performance**\n",
        "\n",
        "**a. Limited Features:**\n",
        "\n",
        "- **Key Geophysical Factors Missing:**\n",
        "  - Earthquake magnitudes are influenced by complex geological and physical processes.\n",
        "  - Features like **tectonic plate interactions**, **historical seismic activity**, **fault line characteristics**, and **geological compositions** are critical.\n",
        "- **Current Features:**\n",
        "  - Using only **latitude**, **longitude**, and **depth** may not capture the full complexity required to predict magnitudes accurately.\n",
        "\n",
        "**b. Data Quality and Quantity:**\n",
        "\n",
        "- **Noise and Variability:**\n",
        "  - Earthquake data can be highly variable and noisy, making it challenging for models to learn accurate patterns.\n",
        "- **Imbalanced Data:**\n",
        "  - If the dataset contains mostly small magnitude earthquakes, the model may struggle with predicting larger magnitudes.\n",
        "\n",
        "**c. Model Architecture:**\n",
        "\n",
        "- **Model Complexity:**\n",
        "  - A single-layer LSTM with 64 units might be insufficient to model the complex relationships.\n",
        "- **Sequence Length:**\n",
        "  - The chosen sequence length (`seq_length = 10`) might not capture long-term dependencies in the data.\n",
        "\n",
        "**d. Overfitting or Underfitting:**\n",
        "\n",
        "- **Underfitting:**\n",
        "  - The model might be too simple to capture the underlying patterns.\n",
        "- **Overfitting:**\n",
        "  - Alternatively, the model might not generalize well to unseen data if it overfits the training data.\n",
        "\n",
        "#### **3. Recommendations for Improvement**\n",
        "\n",
        "**a. Enhance Feature Set:**\n",
        "\n",
        "- **Incorporate Additional Features:**\n",
        "  - **Temporal Features:** Time since the last earthquake, seasonality effects, time of day.\n",
        "  - **Geophysical Data:** Rock types, soil compositions, tectonic plate boundaries, stress accumulation data.\n",
        "  - **Seismic Indicators:** Historical seismic activity, energy release patterns.\n",
        "- **External Data Sources:**\n",
        "  - Integrate data from geological surveys, satellite imagery, or other relevant sources.\n",
        "\n",
        "**b. Data Preprocessing:**\n",
        "\n",
        "- **Feature Engineering:**\n",
        "  - Create new features by combining existing ones or calculating statistical measures (e.g., moving averages).\n",
        "- **Handle Outliers:**\n",
        "  - Identify and treat outliers that may skew the model's learning process.\n",
        "- **Normalization:**\n",
        "  - Ensure all features, including the target variable if necessary, are appropriately scaled.\n",
        "\n",
        "**c. Model Architecture and Training:**\n",
        "\n",
        "- **Increase Model Complexity:**\n",
        "  - Add more LSTM layers or units to capture complex patterns.\n",
        "  - Experiment with bidirectional LSTMs or stacked LSTMs.\n",
        "- **Regularization Techniques:**\n",
        "  - Apply dropout layers to prevent overfitting.\n",
        "- **Hyperparameter Tuning:**\n",
        "  - Experiment with different learning rates, batch sizes, activation functions, and optimizers.\n",
        "- **Sequence Length Adjustment:**\n",
        "  - Try longer sequence lengths to capture more temporal dependencies.\n",
        "\n",
        "**d. Alternative Modeling Approaches:**\n",
        "\n",
        "- **Other Neural Network Architectures:**\n",
        "  - Explore Convolutional Neural Networks (CNNs) for pattern recognition in the data.\n",
        "  - Consider Transformer models, which have shown success in time-series prediction.\n",
        "- **Traditional Machine Learning Models:**\n",
        "  - Test models like Random Forests, Gradient Boosting Machines, or Support Vector Regressors.\n",
        "- **Ensemble Methods:**\n",
        "  - Combine predictions from multiple models to improve overall performance.\n",
        "\n",
        "**e. Cross-Validation and Evaluation:**\n",
        "\n",
        "- **K-Fold Cross-Validation:**\n",
        "  - Use cross-validation to assess model performance more robustly.\n",
        "- **Evaluation Metrics:**\n",
        "  - Examine additional metrics like Root Mean Squared Error (RMSE) or Mean Absolute Percentage Error (MAPE).\n",
        "\n",
        "**f. Domain Expertise:**\n",
        "\n",
        "- **Collaborate with Seismologists:**\n",
        "  - Gain insights into which factors are most predictive of earthquake magnitudes.\n",
        "- **Geospatial Analysis:**\n",
        "  - Use spatial statistics to understand regional variations.\n",
        "\n",
        "---\n",
        "\n",
        "### **Conclusion**\n",
        "\n",
        "Your model demonstrates some predictive capability but is currently limited in its ability to accurately predict earthquake magnitudes. The low R-squared value indicates that significant variability in the data remains unexplained. This outcome is not unexpected given the complexity of earthquake phenomena and the limited feature set.\n",
        "\n",
        "**Key Takeaways:**\n",
        "\n",
        "- **Complexity of Earthquake Prediction:**\n",
        "  - Earthquake magnitudes are influenced by numerous, complex factors that are challenging to model.\n",
        "- **Need for Enhanced Features:**\n",
        "  - Incorporating more relevant and diverse features is crucial for improving model performance.\n",
        "- **Model Refinement:**\n",
        "  - Adjusting the model architecture and parameters can lead to better results.\n",
        "- **Realistic Expectations:**\n",
        "  - Predicting earthquakes is inherently difficult, and even advanced models may have limitations.\n",
        "\n",
        "**Next Steps:**\n",
        "\n",
        "1. **Feature Expansion:**\n",
        "   - Collect and integrate additional data sources.\n",
        "2. **Model Experimentation:**\n",
        "   - Try different models and architectures.\n",
        "3. **Data Analysis:**\n",
        "   - Perform exploratory data analysis to uncover hidden patterns.\n",
        "4. **Consult Domain Experts:**\n",
        "   - Leverage expertise in seismology to guide your modeling efforts.\n",
        "5. **Iterative Improvement:**\n",
        "   - Continuously test and refine your model based on feedback and results.\n"
      ]
    },
    {
      "cell_type": "markdown",
      "id": "6b0fcf5e-1bf2-42df-ada6-bac449929a21",
      "metadata": {
        "id": "6b0fcf5e-1bf2-42df-ada6-bac449929a21"
      },
      "source": []
    }
  ],
  "metadata": {
    "kernelspec": {
      "display_name": "Python 3 (ipykernel)",
      "language": "python",
      "name": "python3"
    },
    "language_info": {
      "codemirror_mode": {
        "name": "ipython",
        "version": 3
      },
      "file_extension": ".py",
      "mimetype": "text/x-python",
      "name": "python",
      "nbconvert_exporter": "python",
      "pygments_lexer": "ipython3",
      "version": "3.11.10"
    },
    "colab": {
      "provenance": []
    }
  },
  "nbformat": 4,
  "nbformat_minor": 5
}